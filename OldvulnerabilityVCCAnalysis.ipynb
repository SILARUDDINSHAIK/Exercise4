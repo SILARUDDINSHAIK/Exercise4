{
 "cells": [
  {
   "cell_type": "code",
   "execution_count": 50,
   "metadata": {},
   "outputs": [],
   "source": [
    "import os\n",
    "os.environ[\"GIT_PYTHON_REFRESH\"] = \"quiet\"\n",
    "import git\n",
    "import datetime\n",
    "import time"
   ]
  },
  {
   "cell_type": "code",
   "execution_count": 89,
   "metadata": {},
   "outputs": [],
   "source": [
    "import numpy as np\n",
    "import pandas as pd\n",
    "import os\n",
    "import re\n",
    "import copy\n",
    "from collections import Counter\n",
    "# Specify git executable file for GitPython in Jupyter Notebook (In IDE, it can still work without this line.)\n",
    "os.environ[\"GIT_PYTHON_REFRESH\"] = \"quiet\"\n",
    "from collections import Counter\n",
    "import git\n",
    "from git import RemoteProgress\n",
    "import pprint as pprint\n",
    "from git import Repo\n",
    "import matplotlib.pyplot as plt\n",
    "import seaborn as sns\n",
    "import copy\n",
    "from collections import Counter\n",
    "%matplotlib inline"
   ]
  },
  {
   "cell_type": "code",
   "execution_count": 90,
   "metadata": {},
   "outputs": [],
   "source": [
    "class Progress(RemoteProgress):\n",
    "    def update(self, op_code, cur_count, max_count=None, message=''):\n",
    "        print(self._cur_line)"
   ]
  },
  {
   "cell_type": "code",
   "execution_count": 91,
   "metadata": {},
   "outputs": [],
   "source": [
    "repo = Repo(\"camel-master/\")\n",
    "fixing_commit =\"2c6964ae94d8f9a9c9a32e5ae5a0b794e8b8d3b\""
   ]
  },
  {
   "cell_type": "code",
   "execution_count": 162,
   "metadata": {},
   "outputs": [
    {
     "name": "stdout",
     "output_type": "stream",
     "text": [
      "commit 9fd5cb7dfe0fcc431f99d5e14206e0090e72f36b\n",
      "Author: Dejan Bosanac <dejan@nighttale.net>\n",
      "Date:   Thu Apr 30 12:08:26 2015 +0200\n",
      "\n",
      "    https://issues.apache.org/jira/browse/AMQ-5754 - disable file server by default\n"
     ]
    }
   ],
   "source": [
    "show_info = repo.git.show(\"-s\", fixing_commit).splitlines()\n",
    "for line in show_info:\n",
    "    print(line)"
   ]
  },
  {
   "cell_type": "code",
   "execution_count": 163,
   "metadata": {},
   "outputs": [],
   "source": [
    "online_link_camel= 'https://github.com/apache/camel'\n",
    "online_link_activemq = 'https://github.com/apache/activemq'\n",
    "online_link_restlet_framework= 'https://github.com/restlet/restlet-framework-java'\n"
   ]
  },
  {
   "cell_type": "code",
   "execution_count": null,
   "metadata": {},
   "outputs": [],
   "source": []
  },
  {
   "cell_type": "code",
   "execution_count": 164,
   "metadata": {},
   "outputs": [],
   "source": [
    "local_link_camel= \"camel-master/\"\n",
    "local_link_activemq= \"activemq/\"\n",
    "local_link_restlet_framework = \"restlet-framework-java/\"\n"
   ]
  },
  {
   "cell_type": "code",
   "execution_count": 165,
   "metadata": {},
   "outputs": [],
   "source": [
    "camel_fixing_commit ='2c6964ae94d8f9a9c9a32e5ae5a0b794e8b8d3b'\n",
    "camel_files = ['camel-core/src/main/java/org/apache/camel/processor/validation/SchemaReader.java',\n",
    "        'camel-core/src/test/java/org/apache/camel/component/validator/ValidatorDtdAccessAbstractTest.java',\n",
    "        'camel-core/src/test/java/org/apache/camel/component/validator/ValidatorDtdAccessOffTest.java',\n",
    "        'camel-core/src/test/java/org/apache/camel/component/validator/ValidatorDtdAccessOnTest.java']\n"
   ]
  },
  {
   "cell_type": "code",
   "execution_count": 166,
   "metadata": {},
   "outputs": [],
   "source": [
    "activemq_fixing_commit = '9fd5cb7dfe0fcc431f99d5e14206e0090e72f36b'\n",
    "activemq_files = ['activemq-fileserver/src/main/java/org/apache/activemq/util/FilenameGuardFilter.java',\n",
    "              'activemq-fileserver/src/main/webapp/index.html',\n",
    "              'assembly/src/release/conf/jetty.xml'\n",
    "              ]"
   ]
  },
  {
   "cell_type": "code",
   "execution_count": 167,
   "metadata": {},
   "outputs": [],
   "source": [
    "restlet_fixing_commit = '97a8d1d62612683817c785e99c4166bcde8cf1c'\n",
    "restlet_files = ['build/tmpl/text/changes.txt','modules/org.restlet.ext.xml/src/main/java/org/restlet/ext/xml/XmlRepresentation.java']\n"
   ]
  },
  {
   "cell_type": "code",
   "execution_count": 168,
   "metadata": {},
   "outputs": [],
   "source": [
    "\n",
    "class vcc:\n",
    "    \n",
    "    def __init__(this, target_repo, flags):\n",
    "        this.repo = git.Repo(target_repo)\n",
    "        this.flag = flags\n",
    "    def get_vcccommits(this, commit, files):\n",
    "    \n",
    "        blamed_commits = {}\n",
    "        added_blamed_commits = {}\n",
    "        removed_blamed_commits = {}\n",
    "        for file in files:\n",
    "            \n",
    "            diff_full_context = this.repo.git.diff(\"-W\", commit + \"~\", commit, \"--\", file)\n",
    "        \n",
    "            diff_no_context = this.repo.git.diff(\"-U0\", commit + \"~\", commit, \"--\", file)\n",
    "        \n",
    "            added_lines = set()\n",
    "           \n",
    "            removed_lines = set()\n",
    "        \n",
    "        for line in diff_full_context.splitlines():\n",
    "                \n",
    "                if not line.startswith('@@'):\n",
    "                    continue\n",
    "              \n",
    "                clean_line = line.split('@@')[1]\n",
    "                half_line = clean_line.split('+')[1]\n",
    "                start = int(half_line.split(',')[0])\n",
    "                if ',' in half_line:\n",
    "                    length = int(half_line.split(',')[1])\n",
    "                else:\n",
    "                    length = 1\n",
    "                 \n",
    "                for number in range(start, start + length):\n",
    "                    added_lines.add(number)\n",
    "            \n",
    "        for line in diff_no_context.splitlines():\n",
    "                if not line.startswith('@@'):\n",
    "                    continue\n",
    "               \n",
    "                clean_line = line.split('@@')[1]\n",
    "                half_line = clean_line.split('+')[0]\n",
    "                \n",
    "                half_line = half_line.replace('-','')\n",
    "                \n",
    "                start = int(half_line.split(',')[0])\n",
    "                if ',' in half_line:\n",
    "                    length = int(half_line.split(',')[1])\n",
    "                else:\n",
    "                    length = 1\n",
    "                \n",
    "                for number in range(start, start + length):\n",
    "                    removed_lines.add(number)\n",
    "                for line in added_lines:\n",
    "                    if this.flag == '':\n",
    "                         blame = this.repo.git.blame(\"-L\", str(line) + \",\" + str(line+1), commit, \"--\", file)\n",
    "                    else:\n",
    "                         blame = this.repo.git.blame(\"-L\", str(line) + \",\" + str(line+1), this.flag, commit, \"--\", file)\n",
    "                    \n",
    "                         blamed_commit = blame.split(\" \")[0]\n",
    "            \n",
    "                \n",
    "                if commit.startswith(blamed_commit):\n",
    "                    continue\n",
    "                    \n",
    "\n",
    "                if blamed_commit in blamed_commits:\n",
    "                    blamed_commits[blamed_commit] += 1\n",
    "                else:\n",
    "                    blamed_commits[blamed_commit] = 1\n",
    "               \n",
    "                \n",
    "                if blamed_commit in added_blamed_commits:\n",
    "                    added_blamed_commits[blamed_commit] += 1\n",
    "                else:\n",
    "                    added_blamed_commits[blamed_commit] = 1\n",
    "                    \n",
    "                for line in removed_lines:\n",
    "                    if this.flag == '':\n",
    "                        blame = this.repo.git.blame(\"-L\", str(line) + \",\" + str(line+1), commit + \"~\", \"--\", file)\n",
    "                    else:\n",
    "                        blame = this.repo.git.blame(\"-L\", str(line) + \",\" + str(line+1), this.flag, commit + \"~\", \"--\", file)\n",
    "                    \n",
    "                        blamed_commit = blame.split(\" \")[0]\n",
    "                \n",
    "               \n",
    "                if commit.startswith(blamed_commit):\n",
    "                    continue\n",
    "            \n",
    "                if blamed_commit in blamed_commits:\n",
    "                    blamed_commits[blamed_commit] += 1\n",
    "                else:\n",
    "                    blamed_commits[blamed_commit] = 1\n",
    "                    \n",
    "                if blamed_commit in removed_blamed_commits:\n",
    "                    removed_blamed_commits[blamed_commit] += 1\n",
    "                else:\n",
    "                    removed_blamed_commits[blamed_commit] = 1\n",
    "        \n",
    "        print(\"Blamed commits for lines which were added: \")\n",
    "        print(added_blamed_commits)\n",
    "        print(\"Blamed commits for lines which were removed: \")\n",
    "        print(removed_blamed_commits)\n",
    "        return blamed_commits\n",
    "    \n",
    "    def selectvcc(blamed_commits):\n",
    "        max_blame = 0\n",
    "        commit = ''\n",
    "        for key, value in blamed_commits.items():\n",
    "            if value > max_blame:\n",
    "                max_blame = value\n",
    "                commit = key\n",
    "            \n",
    "        return commit\n"
   ]
  },
  {
   "cell_type": "markdown",
   "metadata": {},
   "source": [
    "#\n",
    "Finding Vulnerable Contributing Commit and also applying differernt  git blame parameters\n",
    "FOR THE  FILE: ACTIVEMQ:"
   ]
  },
  {
   "cell_type": "code",
   "execution_count": null,
   "metadata": {},
   "outputs": [],
   "source": []
  },
  {
   "cell_type": "code",
   "execution_count": 105,
   "metadata": {},
   "outputs": [
    {
     "name": "stdout",
     "output_type": "stream",
     "text": [
      "rest with: \n",
      "Blamed commits for lines which were added: \n",
      "{'115cb3affbe2': 146, '77e079a83861': 47, 'a7d04c7efd46': 2}\n",
      "Blamed commits for lines which were removed: \n",
      "{'115cb3affbe2': 4}\n",
      "************Total blamed commits*************: \n",
      "{'115cb3affbe2': 150, '77e079a83861': 47, 'a7d04c7efd46': 2}\n",
      "Vulnerability Causing Commit: \n",
      "115cb3affbe2\n",
      "rest with: -w\n",
      "Blamed commits for lines which were added: \n",
      "{'115cb3affbe2': 148, '77e079a83861': 46, 'a7d04c7efd46': 2}\n",
      "Blamed commits for lines which were removed: \n",
      "{'115cb3affbe2': 3, '77e079a83861': 1}\n",
      "************Total blamed commits*************: \n",
      "{'115cb3affbe2': 151, '77e079a83861': 47, 'a7d04c7efd46': 2}\n",
      "Vulnerability Causing Commit: \n",
      "115cb3affbe2\n",
      "rest with: -wM\n",
      "Blamed commits for lines which were added: \n",
      "{'115cb3affbe2': 148, '77e079a83861': 46, 'a7d04c7efd46': 2}\n",
      "Blamed commits for lines which were removed: \n",
      "{'115cb3affbe2': 3, '77e079a83861': 1}\n",
      "************Total blamed commits*************: \n",
      "{'115cb3affbe2': 151, '77e079a83861': 47, 'a7d04c7efd46': 2}\n",
      "Vulnerability Causing Commit: \n",
      "115cb3affbe2\n",
      "rest with: -wC\n",
      "Blamed commits for lines which were added: \n",
      "{'115cb3affbe2': 105, '77e079a83861': 41, 'a2593990d45a': 7, '8c757c7ad9d1': 1, 'ae41922467a3': 6, '197253784368': 54, '112e5ecc543e': 6, 'a7d04c7efd46': 2, 'ac35b3f610ff': 1, 'de28bbfdfd34': 3, '8406768ce51e': 1, '9726fcc65dad': 1, '9df72cc682f9': 1, '0e1bf0b210a5': 3}\n",
      "Blamed commits for lines which were removed: \n",
      "{'115cb3affbe2': 3, '77e079a83861': 1}\n",
      "************Total blamed commits*************: \n",
      "{'115cb3affbe2': 108, '77e079a83861': 42, 'a2593990d45a': 7, '8c757c7ad9d1': 1, 'ae41922467a3': 6, '197253784368': 54, '112e5ecc543e': 6, 'a7d04c7efd46': 2, 'ac35b3f610ff': 1, 'de28bbfdfd34': 3, '8406768ce51e': 1, '9726fcc65dad': 1, '9df72cc682f9': 1, '0e1bf0b210a5': 3}\n",
      "Vulnerability Causing Commit: \n",
      "115cb3affbe2\n",
      "rest with: -wCC\n",
      "Blamed commits for lines which were added: \n",
      "{'115cb3affbe2': 105, '77e079a83861': 41, 'a2593990d45a': 7, '8c757c7ad9d1': 1, 'ae41922467a3': 6, '197253784368': 54, '112e5ecc543e': 6, 'a7d04c7efd46': 2, 'ac35b3f610ff': 1, 'de28bbfdfd34': 3, '8406768ce51e': 1, '9726fcc65dad': 1, '9df72cc682f9': 1, '0e1bf0b210a5': 3}\n",
      "Blamed commits for lines which were removed: \n",
      "{'115cb3affbe2': 3, '77e079a83861': 1}\n",
      "************Total blamed commits*************: \n",
      "{'115cb3affbe2': 108, '77e079a83861': 42, 'a2593990d45a': 7, '8c757c7ad9d1': 1, 'ae41922467a3': 6, '197253784368': 54, '112e5ecc543e': 6, 'a7d04c7efd46': 2, 'ac35b3f610ff': 1, 'de28bbfdfd34': 3, '8406768ce51e': 1, '9726fcc65dad': 1, '9df72cc682f9': 1, '0e1bf0b210a5': 3}\n",
      "Vulnerability Causing Commit: \n",
      "115cb3affbe2\n",
      "rest with: -wCCC\n",
      "Blamed commits for lines which were added: \n",
      "{'115cb3affbe2': 105, '77e079a83861': 41, 'a2593990d45a': 7, '8c757c7ad9d1': 1, 'ae41922467a3': 6, '197253784368': 54, '112e5ecc543e': 6, 'a7d04c7efd46': 2, 'ac35b3f610ff': 1, 'de28bbfdfd34': 3, '8406768ce51e': 1, '9726fcc65dad': 1, '9df72cc682f9': 1, '0e1bf0b210a5': 3}\n",
      "Blamed commits for lines which were removed: \n",
      "{'115cb3affbe2': 3, '77e079a83861': 1}\n",
      "************Total blamed commits*************: \n",
      "{'115cb3affbe2': 108, '77e079a83861': 42, 'a2593990d45a': 7, '8c757c7ad9d1': 1, 'ae41922467a3': 6, '197253784368': 54, '112e5ecc543e': 6, 'a7d04c7efd46': 2, 'ac35b3f610ff': 1, 'de28bbfdfd34': 3, '8406768ce51e': 1, '9726fcc65dad': 1, '9df72cc682f9': 1, '0e1bf0b210a5': 3}\n",
      "Vulnerability Causing Commit: \n",
      "115cb3affbe2\n"
     ]
    }
   ],
   "source": [
    "for item in ['', '-w', '-wM', '-wC', '-wCC', '-wCCC']:\n",
    "    # Run the vulnerability_causing commit finder for rest repository with specified flag\n",
    "    print(\"rest with: \" + item)\n",
    "    rest_vcc_finder = get_vcccommits(local_link_camel, item)\n",
    "    result = selectvcc.get_blamed_commits(camel_fixing_commit,camel_files) \n",
    "    print(\"************Total blamed commits*************: \")\n",
    "    print(result)\n",
    "    vulnerability_causing_commit = get_vcccommits.select_vulnerability_causing_commit(result)\n",
    "    print(\"Vulnerability Causing Commit: \")\n",
    "    print(vulnerability_causing_commit)"
   ]
  },
  {
   "cell_type": "code",
   "execution_count": 106,
   "metadata": {},
   "outputs": [],
   "source": [
    "import numpy as np\n",
    "import pandas as pd\n",
    "import os\n",
    "import re\n",
    "import copy\n",
    "from collections import Counter\n",
    "# Specify git executable file for GitPython in Jupyter Notebook (In IDE, it can still work without this line.)\n",
    "os.environ[\"GIT_PYTHON_REFRESH\"] = \"quiet\"\n",
    "from collections import Counter\n",
    "import git\n",
    "from git import RemoteProgress\n",
    "import pprint as pprint\n",
    "from git import Repo\n",
    "import matplotlib.pyplot as plt\n",
    "import seaborn as sns\n",
    "import copy\n",
    "from collections import Counter\n",
    "%matplotlib inline"
   ]
  },
  {
   "cell_type": "code",
   "execution_count": 107,
   "metadata": {},
   "outputs": [],
   "source": [
    "class Progress(RemoteProgress):\n",
    "    def update(self, op_code, cur_count, max_count=None, message=''):\n",
    "        print(self._cur_line)"
   ]
  },
  {
   "cell_type": "code",
   "execution_count": 108,
   "metadata": {},
   "outputs": [],
   "source": [
    "repo = Repo(\"camel-master\")\n",
    "fixing_commit =\"2c6964ae94d8f9a9c9a32e5ae5a0b794e8b8d3b\""
   ]
  },
  {
   "cell_type": "code",
   "execution_count": 109,
   "metadata": {},
   "outputs": [],
   "source": [
    "VCCCommits=['115cb3affbe2']"
   ]
  },
  {
   "cell_type": "code",
   "execution_count": 110,
   "metadata": {},
   "outputs": [
    {
     "name": "stdout",
     "output_type": "stream",
     "text": [
      "commit 2c6964ae94d8f9a9c9a32e5ae5a0b794e8b8d3be\n",
      "Author: Franz Forsthofer <franz.forsthofer@sap.com>\n",
      "Date:   Fri Feb 24 15:05:36 2017 +0100\n",
      "\n",
      "    CAMEL-10894: XML Validator: DTD Handling improved\n"
     ]
    }
   ],
   "source": [
    "show_info = repo.git.show(\"-s\", fixing_commit).splitlines()\n",
    "for line in show_info:\n",
    "    print(line)"
   ]
  },
  {
   "cell_type": "code",
   "execution_count": 111,
   "metadata": {},
   "outputs": [
    {
     "name": "stdout",
     "output_type": "stream",
     "text": [
      "the total number of affected files are\n",
      " .../camel/processor/validation/SchemaReader.java   | 19 ++++-\n",
      " .../validator/ValidatorDtdAccessAbstractTest.java  | 86 ++++++++++++++++++++++\n",
      " .../validator/ValidatorDtdAccessOffTest.java       | 61 +++++++++++++++\n",
      " .../validator/ValidatorDtdAccessOnTest.java        | 61 +++++++++++++++\n",
      " 4 files changed, 223 insertions(+), 4 deletions(-)\n"
     ]
    }
   ],
   "source": [
    "total_affectedfiles = repo.git.show(\"--stat\",fixing_commit).splitlines()\n",
    "print(\"the total number of affected files are\")\n",
    "total_affectedfiles=total_affectedfiles[6:]\n",
    "for line in total_affectedfiles:\n",
    "    print(line)"
   ]
  },
  {
   "cell_type": "markdown",
   "metadata": {},
   "source": [
    "## Is the of the current fixing commit and its corresponding VCC the same?"
   ]
  },
  {
   "cell_type": "code",
   "execution_count": 112,
   "metadata": {},
   "outputs": [
    {
     "name": "stdout",
     "output_type": "stream",
     "text": [
      "Parent commit exists, as such it isn't an initial commit!\n"
     ]
    }
   ],
   "source": [
    "for VCC in num_VCCCommits:\n",
    "    if VCC[0]=='^':\n",
    "        VCC=VCC[1:]\n",
    "    try:\n",
    "        VCCParent= repo.git.show(VCC+\"^\").splitlines()\n",
    "    except: \n",
    "        pass\n",
    "print(\"Parent commit exists, as such it isn't an initial commit!\")"
   ]
  },
  {
   "cell_type": "markdown",
   "metadata": {},
   "source": [
    "##Is the developer of the current fixing commit and its corresponding VCC \n",
    "the  same?"
   ]
  },
  {
   "cell_type": "code",
   "execution_count": 115,
   "metadata": {},
   "outputs": [
    {
     "name": "stdout",
     "output_type": "stream",
     "text": [
      "franz.forsthofer@sap.com\n",
      "Yes! fixing commit author: franz.forsthofer@sap.com is same in commit: 115cb3affbe2b0a866f7b686035b5b73626b0dca\n"
     ]
    }
   ],
   "source": [
    "commit=repo.commit(fixingCommit)\n",
    "fixing_Commit_Author=commit.author.email\n",
    "print(fixing_Commit_Author)\n",
    "for commits in num_VCCCommits:\n",
    "    VCCcommit=repo.commit(commits)\n",
    "    VCCCommitAuthor=VCCcommit.author.email\n",
    "    if(fixinCommitAuthor==VCCCommitAuthor):\n",
    "        print(\"Yes! fixing commit author: {} is same in commit: {}\".format(fixinCommitAuthor,VCCcommit))"
   ]
  },
  {
   "cell_type": "markdown",
   "metadata": {},
   "source": [
    "#How many days were between the current fixing commit and its corresponding VCC?"
   ]
  },
  {
   "cell_type": "code",
   "execution_count": 114,
   "metadata": {},
   "outputs": [
    {
     "name": "stdout",
     "output_type": "stream",
     "text": [
      "Fixing commit: 2c6964ae94d8f9a9c9a32e5ae5a0b794e8b8d3be and VCC commit: 115cb3affbe2 was fixed in: 406 days, 0:00:00 \n"
     ]
    }
   ],
   "source": [
    "from datetime import datetime\n",
    "commit=repo.commit(fixingCommit)\n",
    "fixing_Commit_Author=commit.author.email\n",
    "dateof_Fixing=repo.git.show(\"-s\",\"--format=%ci\",commit).split(\" \")\n",
    "dateof_Fixing=dateFixing[0]\n",
    "dateFixing=datetime.strptime(\"{}\".format(dateFixing), '%Y-%m-%d').date()\n",
    "time_different = 0\n",
    "sum = 0\n",
    "count = 0\n",
    "for commits in num_VCCCommits:\n",
    "    date=repo.git.show(\"-s\",\"--format=%ci\",commits).split(\" \")\n",
    "    date=date[0]\n",
    "    date= datetime.strptime(\"{}\".format(date), '%Y-%m-%d').date()\n",
    "    days=dateFixing-date\n",
    "    print(\"Fixing commit: {} and VCC commit: {} was fixed in: {} \".format(commit,commits,days))\n",
    "    "
   ]
  },
  {
   "cell_type": "markdown",
   "metadata": {},
   "source": [
    "#\n",
    "SILARUDDIN SHAIK\n",
    "ID: A1782580\n",
    "1. CVE-ID - CVE-2015-1830\n",
    "2. Project Link1: https://github.com/apache/activemq\n",
    "3. Vulnerability Contributing  Commit - e6d20f3932"
   ]
  },
  {
   "cell_type": "code",
   "execution_count": 160,
   "metadata": {},
   "outputs": [],
   "source": [
    "import numpy as np\n",
    "import pandas as pd\n",
    "import os\n",
    "\n",
    "# Specify git executable file for GitPython in Jupyter Notebook (In IDE, it can still work without this line.)\n",
    "os.environ[\"GIT_PYTHON_REFRESH\"] = \"quiet\"\n",
    "\n",
    "import git\n",
    "from git import RemoteProgress\n",
    "\n",
    "from git import Repo\n",
    "import matplotlib.pyplot as plt\n",
    "import seaborn as sns\n",
    "%matplotlib inline"
   ]
  },
  {
   "cell_type": "code",
   "execution_count": 161,
   "metadata": {},
   "outputs": [],
   "source": [
    "repo = Repo(\"activemq/\")\n",
    "fixingCommit=\"e6d20f3932\"\n"
   ]
  },
  {
   "cell_type": "markdown",
   "metadata": {},
   "source": [
    " #\n",
    "    Question'a': What was the message and title of the fixing commit? Was there any mention of fixing a bug or vulnerability?"
   ]
  },
  {
   "cell_type": "code",
   "execution_count": 162,
   "metadata": {
    "scrolled": true
   },
   "outputs": [
    {
     "name": "stdout",
     "output_type": "stream",
     "text": [
      "('    Applied patch from Aleksi Kallio for AMQ-1075 to add a file server for '\n",
      " 'out of band BlobMessage support')\n"
     ]
    }
   ],
   "source": [
    "import pprint as pprint\n",
    "message_data = repo.git.show(\"-s\", fixingCommit).splitlines()\n",
    "pprint.pprint(message_data[4])"
   ]
  },
  {
   "cell_type": "markdown",
   "metadata": {},
   "source": [
    "#Question 'b' How many total files were affected in the fixing commit?"
   ]
  },
  {
   "cell_type": "code",
   "execution_count": 165,
   "metadata": {},
   "outputs": [
    {
     "name": "stdout",
     "output_type": "stream",
     "text": [
      "(' .../java/org/apache/activemq/util/RestFilter.java  | 241 '\n",
      " '+++++++++++++++++++++')\n"
     ]
    }
   ],
   "source": [
    "import pprint as pprint\n",
    "totalFilesAffected = repo.git.show(\"--stat\", \"e6d20f3932\").splitlines()\n",
    "\n",
    "pprint.pprint(totalFilesAffected[10])"
   ]
  },
  {
   "cell_type": "markdown",
   "metadata": {},
   "source": [
    "#Question 'c' How many total directories were affected in the fixing commit?"
   ]
  },
  {
   "cell_type": "code",
   "execution_count": 7,
   "metadata": {},
   "outputs": [
    {
     "name": "stdout",
     "output_type": "stream",
     "text": [
      "'Directories affected:  activemq-fileserver/pom.xml                        '\n"
     ]
    }
   ],
   "source": [
    "totalDirectoriesAffected = repo.git.show(\"--stat\", \"e6d20f3932\").splitlines()\n",
    "\n",
    "pprint.pprint(\"Directories affected: \"+totalDirectoriesAffected[8][0:52])"
   ]
  },
  {
   "cell_type": "markdown",
   "metadata": {},
   "source": [
    "#Question'd'How many total lines of code (including comments and blank lines) were deleted?"
   ]
  },
  {
   "cell_type": "code",
   "execution_count": 8,
   "metadata": {},
   "outputs": [
    {
     "name": "stdout",
     "output_type": "stream",
     "text": [
      "'Total lines DELETED including comments and blank lines: eGuardFilter.'\n"
     ]
    }
   ],
   "source": [
    "totalLinesDeletedInc = repo.git.show(\"--stat\", \"e6d20f3932\").splitlines()\n",
    "\n",
    "pprint.pprint(\"Total lines DELETED including comments and blank lines: \"+totalLinesDeletedInc[9][33:46])"
   ]
  },
  {
   "cell_type": "markdown",
   "metadata": {},
   "source": [
    "#Question'e'How many total lines of code (including comments and blank lines) were added?"
   ]
  },
  {
   "cell_type": "code",
   "execution_count": 9,
   "metadata": {},
   "outputs": [
    {
     "name": "stdout",
     "output_type": "stream",
     "text": [
      "'Total lines ADDED including comments and blank lines: emq/util/Filen'\n"
     ]
    }
   ],
   "source": [
    "totalLinesAddedInc = repo.git.show(\"--stat\", \"e6d20f3932\").splitlines()\n",
    "\n",
    "pprint.pprint(\"Total lines ADDED including comments and blank lines: \"+totalLinesAddedInc[9][17:31])"
   ]
  },
  {
   "cell_type": "markdown",
   "metadata": {},
   "source": [
    "#Question'f'How many total lines of code (excluding comments and blank lines) were deleted?"
   ]
  },
  {
   "cell_type": "code",
   "execution_count": 16,
   "metadata": {},
   "outputs": [
    {
     "name": "stdout",
     "output_type": "stream",
     "text": [
      "('Total lines DELETED excluding comments and blank lines: '\n",
      " 'ivemq/util/FilenameGuardFilter.')\n"
     ]
    }
   ],
   "source": [
    "totalLinesDeletedExc = repo.git.show(\"--stat\", \"--ignore-blank-lines\", \"e6d20f3932\").splitlines()\n",
    "\n",
    "pprint.pprint(\"Total lines DELETED excluding comments and blank lines: \"+totalLinesDeletedExc[9][15:46])"
   ]
  },
  {
   "cell_type": "markdown",
   "metadata": {},
   "source": [
    "#Question ‘g’ How many total lines of code (excluding comments and blank lines) were added?"
   ]
  },
  {
   "cell_type": "code",
   "execution_count": 17,
   "metadata": {},
   "outputs": [
    {
     "name": "stdout",
     "output_type": "stream",
     "text": [
      "'Total lines ADDED excluding comments and blank lines: emq/util/Filen'\n"
     ]
    }
   ],
   "source": [
    "totalLinesAddedExc = repo.git.show(\"--stat\", \"--ignore-blank-lines\", \"e6d20f3932\").splitlines()\n",
    "\n",
    "pprint.pprint(\"Total lines ADDED excluding comments and blank lines: \"+totalLinesAddedExc[9][17:31])"
   ]
  },
  {
   "cell_type": "markdown",
   "metadata": {},
   "source": [
    "#Question'h'How many days were between the current fixing commit and the previous commit of each affected file?"
   ]
  },
  {
   "cell_type": "code",
   "execution_count": 166,
   "metadata": {},
   "outputs": [
    {
     "name": "stdout",
     "output_type": "stream",
     "text": [
      "0 days\n"
     ]
    }
   ],
   "source": [
    "from datetime import datetime\n",
    "from datetime import date\n",
    "DateOfFixingCommit = repo.git.log(\"-1\" ,\"--format=\\\"%ai\\\"\", \"9fd5cb7dfe0fcc431f99d5e14206e0090e72f36b\",\"--\",\"activemq-fileserver/pom.xml\").splitlines()\n",
    "DateOfFixingCommit=DateOfFixingCommit[0][1:11]\n",
    "DateOfPrevCommit = repo.git.log(\"-1\" ,\"--format=\\\"%ai\\\"\",\"-p\",\"9fd5cb7dfe0fcc431f99d5e14206e0090e72f36b\",\"--\",\"activemq-fileserver/pom.xml\").splitlines()\n",
    "DateOfPrevCommit=DateOfPrevCommit[0][1:11]\n",
    "DateOfPrevCommit= datetime.strptime(DateOfPrevCommit,\"%Y-%m-%d\")\n",
    "DateOfFixingCommit= datetime.strptime(DateOfFixingCommit,\"%Y-%m-%d\")\n",
    "between_days =(DateOfFixingCommit-DateOfPrevCommit).days\n",
    "print(between_days,\"days\")"
   ]
  },
  {
   "cell_type": "markdown",
   "metadata": {},
   "source": [
    "#Question I How many time has each affected file of the current fixing commit been modified in the past since their creation (including rename of the file)?"
   ]
  },
  {
   "cell_type": "code",
   "execution_count": 22,
   "metadata": {},
   "outputs": [
    {
     "name": "stdout",
     "output_type": "stream",
     "text": [
      "31\n"
     ]
    }
   ],
   "source": [
    "Commits=repo.git.log(\"--follow\",\"e6d20f3932\",\"--\",\"activemq-fileserver/pom.xml\")\n",
    "print(Commits.count('commit'))"
   ]
  },
  {
   "cell_type": "markdown",
   "metadata": {},
   "source": [
    "Question‘J’ j.\tWhich developers have modified each affected file since its creation? "
   ]
  },
  {
   "cell_type": "code",
   "execution_count": 23,
   "metadata": {},
   "outputs": [
    {
     "name": "stdout",
     "output_type": "stream",
     "text": [
      "'\"James Strachan\"'\n"
     ]
    }
   ],
   "source": [
    "Developers=repo.git.log(\"--format=\\\"%aN\\\"\",\"e6d20f3932\",\"--\",\"activemq-fileserver/pom.xml\")\n",
    "\n",
    "pprint.pprint(Developers)"
   ]
  },
  {
   "cell_type": "markdown",
   "metadata": {},
   "source": [
    "Question'k' Which developers have modified each affected file since its creation?\n",
    "For each developer identified, how many commits have each of them submitted?"
   ]
  },
  {
   "cell_type": "code",
   "execution_count": 192,
   "metadata": {},
   "outputs": [
    {
     "name": "stdout",
     "output_type": "stream",
     "text": [
      "'     1\\tJames Strachan'\n"
     ]
    }
   ],
   "source": [
    "best_Developers=repo.git.shortlog(\"-sn\",\"e6d20f3932\",\"--\",\"activemq-fileserver/pom.xml\")\n",
    "pprint.pprint(best_Developers)"
   ]
  },
  {
   "cell_type": "markdown",
   "metadata": {},
   "source": [
    "#finding vcc"
   ]
  },
  {
   "cell_type": "code",
   "execution_count": 126,
   "metadata": {},
   "outputs": [],
   "source": [
    "class vcc:\n",
    "    \n",
    "    def __init__(this, target_repo, flags):\n",
    "        this.repo = git.Repo(target_repo)\n",
    "        this.flag = flags\n",
    "    def get_vcccommits(this, commit, files):\n",
    "    \n",
    "        blamed_commits = {}\n",
    "        added_blamed_commits = {}\n",
    "        removed_blamed_commits = {}\n",
    "        for file in files:\n",
    "            \n",
    "            diff_full_context = this.repo.git.diff(\"-W\", commit + \"~\", commit, \"--\", file)\n",
    "        \n",
    "            diff_no_context = this.repo.git.diff(\"-U0\", commit + \"~\", commit, \"--\", file)\n",
    "        \n",
    "            added_lines = set()\n",
    "           \n",
    "            removed_lines = set()\n",
    "        \n",
    "        for line in diff_full_context.splitlines():\n",
    "                \n",
    "                if not line.startswith('@@'):\n",
    "                    continue\n",
    "              \n",
    "                clean_line = line.split('@@')[1]\n",
    "                half_line = clean_line.split('+')[1]\n",
    "                start = int(half_line.split(',')[0])\n",
    "                if ',' in half_line:\n",
    "                    length = int(half_line.split(',')[1])\n",
    "                else:\n",
    "                    length = 1\n",
    "                 \n",
    "                for number in range(start, start + length):\n",
    "                    added_lines.add(number)\n",
    "            \n",
    "        for line in diff_no_context.splitlines():\n",
    "                if not line.startswith('@@'):\n",
    "                    continue\n",
    "               \n",
    "                clean_line = line.split('@@')[1]\n",
    "                half_line = clean_line.split('+')[0]\n",
    "                \n",
    "                half_line = half_line.replace('-','')\n",
    "                \n",
    "                start = int(half_line.split(',')[0])\n",
    "                if ',' in half_line:\n",
    "                    length = int(half_line.split(',')[1])\n",
    "                else:\n",
    "                    length = 1\n",
    "                \n",
    "                for number in range(start, start + length):\n",
    "                    removed_lines.add(number)\n",
    "                for line in added_lines:\n",
    "                    if this.flag == '':\n",
    "                         blame = this.repo.git.blame(\"-L\", str(line) + \",\" + str(line+1), commit, \"--\", file)\n",
    "                    else:\n",
    "                         blame = this.repo.git.blame(\"-L\", str(line) + \",\" + str(line+1), this.flag, commit, \"--\", file)\n",
    "                    \n",
    "                         blamed_commit = blame.split(\" \")[0]\n",
    "            \n",
    "                \n",
    "                if commit.startswith(blamed_commit):\n",
    "                    continue\n",
    "                    \n",
    "\n",
    "                if blamed_commit in blamed_commits:\n",
    "                    blamed_commits[blamed_commit] += 1\n",
    "                else:\n",
    "                    blamed_commits[blamed_commit] = 1\n",
    "               \n",
    "                \n",
    "                if blamed_commit in added_blamed_commits:\n",
    "                    added_blamed_commits[blamed_commit] += 1\n",
    "                else:\n",
    "                    added_blamed_commits[blamed_commit] = 1\n",
    "                    \n",
    "                for line in removed_lines:\n",
    "                    if this.flag == '':\n",
    "                        blame = this.repo.git.blame(\"-L\", str(line) + \",\" + str(line+1), commit + \"~\", \"--\", file)\n",
    "                    else:\n",
    "                        blame = this.repo.git.blame(\"-L\", str(line) + \",\" + str(line+1), this.flag, commit + \"~\", \"--\", file)\n",
    "                    \n",
    "                        blamed_commit = blame.split(\" \")[0]\n",
    "                \n",
    "               \n",
    "                if commit.startswith(blamed_commit):\n",
    "                    continue\n",
    "            \n",
    "                if blamed_commit in blamed_commits:\n",
    "                    blamed_commits[blamed_commit] += 1\n",
    "                else:\n",
    "                    blamed_commits[blamed_commit] = 1\n",
    "                    \n",
    "                if blamed_commit in removed_blamed_commits:\n",
    "                    removed_blamed_commits[blamed_commit] += 1\n",
    "                else:\n",
    "                    removed_blamed_commits[blamed_commit] = 1\n",
    "        \n",
    "        print(\"Blamed commits for lines which were added: \")\n",
    "        print(added_blamed_commits)\n",
    "        print(\"Blamed commits for lines which were removed: \")\n",
    "        print(removed_blamed_commits)\n",
    "        return blamed_commits\n",
    "    \n",
    "    def selectvcc(blamed_commits):\n",
    "        max_blame = 0\n",
    "        commit = ''\n",
    "        for key, value in blamed_commits.items():\n",
    "            if value > max_blame:\n",
    "                max_blame = value\n",
    "                commit = key\n",
    "            \n",
    "        return commit\n"
   ]
  },
  {
   "cell_type": "markdown",
   "metadata": {},
   "source": [
    "#\n",
    "Finding Vulnerability Contributing commit \n",
    "For Restlet_Framework file.\n",
    "Applying different types of gitblame paramters"
   ]
  },
  {
   "cell_type": "code",
   "execution_count": 127,
   "metadata": {},
   "outputs": [
    {
     "name": "stdout",
     "output_type": "stream",
     "text": [
      "rest with: \n",
      "Blamed commits for lines which were added: \n",
      "{'e6d20f3932': 18, '8bf987b134': 1, '47b09a2a89': 3, '540dd5c987': 50, '88bdc562f1': 16, '755345cb53': 94, '3a561cc8c7': 1, '46ccaafcfc': 1, '6167c49fc1': 10, '0da02fca9d': 2, '437ea2f6e5': 1, 'e366917efc': 1, 'fdfc5efe5a': 3, '44a7ffa946': 5, '5a7ceacce9': 1, '84c4b9db56': 8, 'd37786ea13': 2, '12585eb5be': 10, '2b019ea627': 1, 'e8a06c43bb': 1, '75c659f122': 1}\n",
      "Blamed commits for lines which were removed: \n",
      "{'540dd5c987': 1, 'e6d20f3932': 2}\n",
      "************Total blamed commits*************: \n",
      "{'e6d20f3932': 20, '8bf987b134': 1, '47b09a2a89': 3, '540dd5c987': 51, '88bdc562f1': 16, '755345cb53': 94, '3a561cc8c7': 1, '46ccaafcfc': 1, '6167c49fc1': 10, '0da02fca9d': 2, '437ea2f6e5': 1, 'e366917efc': 1, 'fdfc5efe5a': 3, '44a7ffa946': 5, '5a7ceacce9': 1, '84c4b9db56': 8, 'd37786ea13': 2, '12585eb5be': 10, '2b019ea627': 1, 'e8a06c43bb': 1, '75c659f122': 1}\n",
      "Vulnerability Causing Commit: \n",
      "755345cb53\n",
      "rest with: -w\n",
      "Blamed commits for lines which were added: \n",
      "{'e6d20f3932': 68, '8bf987b134': 1, '47b09a2a89': 3, '88bdc562f1': 16, '960dce70d3': 4, '755345cb53': 54, '9b305d669b': 2, '7127a2cc3e': 1, 'e8a06c43bb': 23, '3a561cc8c7': 1, '46ccaafcfc': 1, '6167c49fc1': 10, '0da02fca9d': 2, '437ea2f6e5': 1, 'e366917efc': 1, 'fdfc5efe5a': 3, '146970965a': 1, '5a7ceacce9': 1, '44a7ffa946': 5, '2b019ea627': 11, '84c4b9db56': 8, 'd37786ea13': 2, '12585eb5be': 10, '8b9b09181b': 1}\n",
      "Blamed commits for lines which were removed: \n",
      "{'e6d20f3932': 3}\n",
      "************Total blamed commits*************: \n",
      "{'e6d20f3932': 71, '8bf987b134': 1, '47b09a2a89': 3, '88bdc562f1': 16, '960dce70d3': 4, '755345cb53': 54, '9b305d669b': 2, '7127a2cc3e': 1, 'e8a06c43bb': 23, '3a561cc8c7': 1, '46ccaafcfc': 1, '6167c49fc1': 10, '0da02fca9d': 2, '437ea2f6e5': 1, 'e366917efc': 1, 'fdfc5efe5a': 3, '146970965a': 1, '5a7ceacce9': 1, '44a7ffa946': 5, '2b019ea627': 11, '84c4b9db56': 8, 'd37786ea13': 2, '12585eb5be': 10, '8b9b09181b': 1}\n",
      "Vulnerability Causing Commit: \n",
      "e6d20f3932\n",
      "rest with: -wM\n",
      "Blamed commits for lines which were added: \n",
      "{'e6d20f3932': 68, '8bf987b134': 1, '47b09a2a89': 3, '88bdc562f1': 16, '960dce70d3': 4, '755345cb53': 48, '9b305d669b': 2, '7127a2cc3e': 1, 'e8a06c43bb': 33, '3a561cc8c7': 1, '46ccaafcfc': 1, '6167c49fc1': 8, '0da02fca9d': 2, '437ea2f6e5': 2, 'e366917efc': 1, 'fdfc5efe5a': 3, '146970965a': 1, '5a7ceacce9': 1, '44a7ffa946': 3, '2b019ea627': 11, '84c4b9db56': 7, 'd37786ea13': 2, '12585eb5be': 10, '8b9b09181b': 1}\n",
      "Blamed commits for lines which were removed: \n",
      "{'e6d20f3932': 3}\n",
      "************Total blamed commits*************: \n",
      "{'e6d20f3932': 71, '8bf987b134': 1, '47b09a2a89': 3, '88bdc562f1': 16, '960dce70d3': 4, '755345cb53': 48, '9b305d669b': 2, '7127a2cc3e': 1, 'e8a06c43bb': 33, '3a561cc8c7': 1, '46ccaafcfc': 1, '6167c49fc1': 8, '0da02fca9d': 2, '437ea2f6e5': 2, 'e366917efc': 1, 'fdfc5efe5a': 3, '146970965a': 1, '5a7ceacce9': 1, '44a7ffa946': 3, '2b019ea627': 11, '84c4b9db56': 7, 'd37786ea13': 2, '12585eb5be': 10, '8b9b09181b': 1}\n",
      "Vulnerability Causing Commit: \n",
      "e6d20f3932\n",
      "rest with: -wC\n",
      "Blamed commits for lines which were added: \n",
      "{'e6d20f3932': 68, '8bf987b134': 1, '47b09a2a89': 3, '88bdc562f1': 16, '960dce70d3': 4, '755345cb53': 48, '9b305d669b': 2, '7127a2cc3e': 1, 'e8a06c43bb': 33, '3a561cc8c7': 1, '46ccaafcfc': 1, '6167c49fc1': 8, '0da02fca9d': 2, '437ea2f6e5': 2, 'e366917efc': 1, 'fdfc5efe5a': 3, '146970965a': 1, '5a7ceacce9': 1, '44a7ffa946': 3, '2b019ea627': 11, '84c4b9db56': 7, 'd37786ea13': 2, '12585eb5be': 10, '8b9b09181b': 1}\n",
      "Blamed commits for lines which were removed: \n",
      "{'e6d20f3932': 3}\n",
      "************Total blamed commits*************: \n",
      "{'e6d20f3932': 71, '8bf987b134': 1, '47b09a2a89': 3, '88bdc562f1': 16, '960dce70d3': 4, '755345cb53': 48, '9b305d669b': 2, '7127a2cc3e': 1, 'e8a06c43bb': 33, '3a561cc8c7': 1, '46ccaafcfc': 1, '6167c49fc1': 8, '0da02fca9d': 2, '437ea2f6e5': 2, 'e366917efc': 1, 'fdfc5efe5a': 3, '146970965a': 1, '5a7ceacce9': 1, '44a7ffa946': 3, '2b019ea627': 11, '84c4b9db56': 7, 'd37786ea13': 2, '12585eb5be': 10, '8b9b09181b': 1}\n",
      "Vulnerability Causing Commit: \n",
      "e6d20f3932\n",
      "rest with: -wCC\n",
      "Blamed commits for lines which were added: \n",
      "{'e6d20f3932': 68, '8bf987b134': 1, '47b09a2a89': 3, '88bdc562f1': 16, '960dce70d3': 4, '755345cb53': 48, '9b305d669b': 2, '7127a2cc3e': 1, 'e8a06c43bb': 33, '3a561cc8c7': 1, '46ccaafcfc': 1, '6167c49fc1': 8, '0da02fca9d': 2, '437ea2f6e5': 2, 'e366917efc': 1, 'fdfc5efe5a': 3, '146970965a': 1, '5a7ceacce9': 1, '44a7ffa946': 3, '2b019ea627': 11, '84c4b9db56': 7, 'd37786ea13': 2, '12585eb5be': 10, '8b9b09181b': 1}\n",
      "Blamed commits for lines which were removed: \n",
      "{'e6d20f3932': 3}\n",
      "************Total blamed commits*************: \n",
      "{'e6d20f3932': 71, '8bf987b134': 1, '47b09a2a89': 3, '88bdc562f1': 16, '960dce70d3': 4, '755345cb53': 48, '9b305d669b': 2, '7127a2cc3e': 1, 'e8a06c43bb': 33, '3a561cc8c7': 1, '46ccaafcfc': 1, '6167c49fc1': 8, '0da02fca9d': 2, '437ea2f6e5': 2, 'e366917efc': 1, 'fdfc5efe5a': 3, '146970965a': 1, '5a7ceacce9': 1, '44a7ffa946': 3, '2b019ea627': 11, '84c4b9db56': 7, 'd37786ea13': 2, '12585eb5be': 10, '8b9b09181b': 1}\n",
      "Vulnerability Causing Commit: \n",
      "e6d20f3932\n",
      "rest with: -wCCC\n",
      "Blamed commits for lines which were added: \n",
      "{'e6d20f3932': 68, '8bf987b134': 1, '47b09a2a89': 3, '88bdc562f1': 16, '960dce70d3': 4, '755345cb53': 48, '9b305d669b': 2, '7127a2cc3e': 1, 'e8a06c43bb': 33, '3a561cc8c7': 1, '46ccaafcfc': 1, '6167c49fc1': 8, '0da02fca9d': 2, '437ea2f6e5': 2, 'e366917efc': 1, 'fdfc5efe5a': 3, '146970965a': 1, '5a7ceacce9': 1, '44a7ffa946': 3, '2b019ea627': 11, '84c4b9db56': 7, 'd37786ea13': 2, '12585eb5be': 10, '8b9b09181b': 1}\n",
      "Blamed commits for lines which were removed: \n",
      "{'e6d20f3932': 3}\n",
      "************Total blamed commits*************: \n",
      "{'e6d20f3932': 71, '8bf987b134': 1, '47b09a2a89': 3, '88bdc562f1': 16, '960dce70d3': 4, '755345cb53': 48, '9b305d669b': 2, '7127a2cc3e': 1, 'e8a06c43bb': 33, '3a561cc8c7': 1, '46ccaafcfc': 1, '6167c49fc1': 8, '0da02fca9d': 2, '437ea2f6e5': 2, 'e366917efc': 1, 'fdfc5efe5a': 3, '146970965a': 1, '5a7ceacce9': 1, '44a7ffa946': 3, '2b019ea627': 11, '84c4b9db56': 7, 'd37786ea13': 2, '12585eb5be': 10, '8b9b09181b': 1}\n",
      "Vulnerability Causing Commit: \n",
      "e6d20f3932\n"
     ]
    }
   ],
   "source": [
    "for item in ['', '-w', '-wM', '-wC', '-wCC', '-wCCC']:\n",
    "    print(\"rest with: \" + item)\n",
    "    rest_vcc_finder = get_vcccommits(local_link_activemq, item)\n",
    "    result = selectvcc.get_blamed_commits(activemq_fixing_commit,activemq_files) \n",
    "    print(\"************Total blamed commits*************: \")\n",
    "    print(result)\n",
    "    vulnerability_causing_commit = get_vcccommits.select_vulnerability_causing_commit(result)\n",
    "    print(\"Vulnerability Causing Commit: \")\n",
    "    print(vulnerability_causing_commit)"
   ]
  },
  {
   "cell_type": "code",
   "execution_count": 182,
   "metadata": {},
   "outputs": [],
   "source": [
    "import os\n",
    "# Set the git executable location. If you are running this script, make sure you set this to be where git is \n",
    "# on your computer (My git is in an odd place due to the way my computer is set up!)\n",
    "os.environ[\"GIT_PYTHON_REFRESH\"] = \"quiet\"\n",
    "import git\n",
    "import datetime\n",
    "import time"
   ]
  },
  {
   "cell_type": "code",
   "execution_count": 183,
   "metadata": {},
   "outputs": [],
   "source": [
    "import numpy as np\n",
    "import pandas as pd\n",
    "import os\n",
    "import re\n",
    "import copy\n",
    "from collections import Counter\n",
    "# Specify git executable file for GitPython in Jupyter Notebook (In IDE, it can still work without this line.)\n",
    "os.environ[\"GIT_PYTHON_REFRESH\"] = \"quiet\"\n",
    "from collections import Counter\n",
    "import git\n",
    "from git import RemoteProgress\n",
    "import pprint as pprint\n",
    "from git import Repo\n",
    "import matplotlib.pyplot as plt\n",
    "import seaborn as sns\n",
    "import copy\n",
    "from collections import Counter\n",
    "%matplotlib inline"
   ]
  },
  {
   "cell_type": "code",
   "execution_count": 184,
   "metadata": {},
   "outputs": [],
   "source": [
    "class Progress(RemoteProgress):\n",
    "    def update(self, op_code, cur_count, max_count=None, message=''):\n",
    "        print(self._cur_line)"
   ]
  },
  {
   "cell_type": "code",
   "execution_count": 185,
   "metadata": {},
   "outputs": [],
   "source": [
    "repo = Repo(\"activemq/\")\n",
    "fixing_commit =\"9fd5cb7dfe0fcc431f99d5e14206e0090e72f36b\""
   ]
  },
  {
   "cell_type": "code",
   "execution_count": 186,
   "metadata": {},
   "outputs": [
    {
     "name": "stdout",
     "output_type": "stream",
     "text": [
      "commit 9fd5cb7dfe0fcc431f99d5e14206e0090e72f36b\n",
      "Author: Dejan Bosanac <dejan@nighttale.net>\n",
      "Date:   Thu Apr 30 12:08:26 2015 +0200\n",
      "\n",
      "    https://issues.apache.org/jira/browse/AMQ-5754 - disable file server by default\n"
     ]
    }
   ],
   "source": [
    "show_info = repo.git.show(\"-s\", fixing_commit).splitlines()\n",
    "for line in show_info:\n",
    "    print(line)"
   ]
  },
  {
   "cell_type": "code",
   "execution_count": 187,
   "metadata": {},
   "outputs": [
    {
     "name": "stdout",
     "output_type": "stream",
     "text": [
      "the total number of affected files are\n",
      " .../src/main/java/org/apache/activemq/util/FilenameGuardFilter.java   | 2 +-\n",
      " activemq-fileserver/src/main/webapp/index.html                        | 4 ++--\n",
      " assembly/src/release/conf/jetty.xml                                   | 3 +++\n",
      " 3 files changed, 6 insertions(+), 3 deletions(-)\n"
     ]
    }
   ],
   "source": [
    "total_affectedfiles = repo.git.show(\"--stat\",fixing_commit).splitlines()\n",
    "print(\"the total number of affected files are\")\n",
    "total_affectedfiles=total_affectedfiles[6:]\n",
    "for line in total_affectedfiles:\n",
    "    print(line)"
   ]
  },
  {
   "cell_type": "code",
   "execution_count": 188,
   "metadata": {},
   "outputs": [],
   "source": [
    "VCCCommits= ['e6d20f3932']"
   ]
  },
  {
   "cell_type": "markdown",
   "metadata": {},
   "source": [
    "#Is the current fixing commit and its corresponding VCC the same?"
   ]
  },
  {
   "cell_type": "code",
   "execution_count": 189,
   "metadata": {},
   "outputs": [
    {
     "name": "stdout",
     "output_type": "stream",
     "text": [
      "Parent commit exists, as such it isn't an initial commit!\n"
     ]
    }
   ],
   "source": [
    "for VCC in VCCCommits:\n",
    "    if VCC[0]=='^':\n",
    "        VCC=VCC[1:]\n",
    "    try:\n",
    "        VCCParent= repo.git.show(VCC+\"^\").splitlines()\n",
    "    except: \n",
    "        pass\n",
    "print(\"Parent commit exists, as such it isn't an initial commit!\")"
   ]
  },
  {
   "cell_type": "code",
   "execution_count": 190,
   "metadata": {},
   "outputs": [],
   "source": [
    "VCCCommits= ['755345cb53']"
   ]
  },
  {
   "cell_type": "markdown",
   "metadata": {},
   "source": [
    "#Is the developer of the current fixing commit and its corresponding VCC \n",
    "the  same?"
   ]
  },
  {
   "cell_type": "code",
   "execution_count": null,
   "metadata": {},
   "outputs": [],
   "source": [
    "commit=repo.commit(fixingCommit)\n",
    "fixing_Commit_Author=commit.author.email\n",
    "print(fixing_Commit_Author)\n",
    "for commits in num_VCCCommits:\n",
    "    VCCcommit=repo.commit(commits)\n",
    "    VCCCommitAuthor=VCCcommit.author.email\n",
    "    if(fixinCommitAuthor==VCCCommitAuthor):\n",
    "        print(\"Yes! fixing commit author: {} is same in commit: {}\".format(fixinCommitAuthor,VCCcommit))"
   ]
  },
  {
   "cell_type": "markdown",
   "metadata": {},
   "source": [
    "#How many days were between the current fixing commit and its corresponding VCC?"
   ]
  },
  {
   "cell_type": "code",
   "execution_count": null,
   "metadata": {},
   "outputs": [],
   "source": [
    "from datetime import datetime\n",
    "commit=repo.commit(fixingCommit)\n",
    "fixinCommitAuthor=commit.author.email\n",
    "dateFixing=repo.git.show(\"-s\",\"--format=%ci\",commit).split(\" \")\n",
    "dateFixing=dateFixing[0]\n",
    "dateFixing=datetime.strptime(\"{}\".format(dateFixing), '%Y-%m-%d').date()\n",
    "time_different = 0\n",
    "sum = 0\n",
    "count = 0\n",
    "for commits in VCCCommits:\n",
    "    date=repo.git.show(\"-s\",\"--format=%ci\",commits).split(\" \")\n",
    "    date=date[0]\n",
    "    date= datetime.strptime(\"{}\".format(date), '%Y-%m-%d').date()\n",
    "    days=dateFixing-date\n",
    "    print(\"Fixing commit: {} and VCC commit: {} was fixed in: {} \".format(commit,commits,days))"
   ]
  },
  {
   "cell_type": "markdown",
   "metadata": {},
   "source": [
    "#\n",
    "SILARUDDIN SHAIK\n",
    "ID: A1782580\n",
    "1. CVE-ID - CVE-2017-14949\n",
    "2. Project Link2: https://github.com/restlet/restlet-framework-java\n",
    "3. Vulnerability Contributing Commit - d1315e7e6e"
   ]
  },
  {
   "cell_type": "code",
   "execution_count": null,
   "metadata": {},
   "outputs": [],
   "source": []
  },
  {
   "cell_type": "code",
   "execution_count": 176,
   "metadata": {},
   "outputs": [],
   "source": [
    "import numpy as np\n",
    "import pandas as pd\n",
    "import os\n",
    "\n",
    "# Specify git executable file for GitPython in Jupyter Notebook (In IDE, it can still work without this line.)\n",
    "os.environ[\"GIT_PYTHON_REFRESH\"] = \"quiet\"\n",
    "\n",
    "import git\n",
    "from git import RemoteProgress\n",
    "\n",
    "from git import Repo\n",
    "import matplotlib.pyplot as plt\n",
    "import seaborn as sns\n",
    "%matplotlib inline"
   ]
  },
  {
   "cell_type": "code",
   "execution_count": 25,
   "metadata": {},
   "outputs": [],
   "source": [
    "repo = Repo(\"restlet-framework-java/\")\n",
    "fixingCommit=\"d1315e7e6e\""
   ]
  },
  {
   "cell_type": "markdown",
   "metadata": {},
   "source": [
    "#Question'a': What was the message and title of the fixing commit? Was there any mention of fixing a bug or vulnerability?"
   ]
  },
  {
   "cell_type": "code",
   "execution_count": 26,
   "metadata": {},
   "outputs": [
    {
     "name": "stdout",
     "output_type": "stream",
     "text": [
      "'     - Renamed XSLT extension into XML extension.'\n"
     ]
    }
   ],
   "source": [
    "import pprint as pprint\n",
    "message_data = repo.git.show(\"-s\", fixingCommit).splitlines()\n",
    "pprint.pprint(message_data[4])"
   ]
  },
  {
   "cell_type": "markdown",
   "metadata": {},
   "source": [
    "#Question 'b' How many total files were affected in the fixing commit?"
   ]
  },
  {
   "cell_type": "code",
   "execution_count": 68,
   "metadata": {},
   "outputs": [
    {
     "name": "stdout",
     "output_type": "stream",
     "text": [
      "' .../src/org/restlet/ext/xml/DomRepresentation.java | 241 ++++++++'\n"
     ]
    }
   ],
   "source": [
    "import pprint as pprint\n",
    "\n",
    "totalFilesAffected = repo.git.show(\"--stat\", \"d1315e7e6e\").splitlines()\n",
    "pprint.pprint(totalFilesAffected[12])"
   ]
  },
  {
   "cell_type": "markdown",
   "metadata": {},
   "source": [
    "#Question 'c' How many total directories were affected in the fixing commit?"
   ]
  },
  {
   "cell_type": "code",
   "execution_count": 67,
   "metadata": {},
   "outputs": [
    {
     "name": "stdout",
     "output_type": "stream",
     "text": [
      "'Directories affected: .ext.xml/.cla'\n"
     ]
    }
   ],
   "source": [
    "import pprint as pprint\n",
    "NumberofDirecAffected = repo.git.show(\"--stat\", \"d1315e7e6e\").splitlines()\n",
    "\n",
    "pprint.pprint(\"Directories affected: \"+NumberofDirecAffected[7][20:33])\n"
   ]
  },
  {
   "cell_type": "markdown",
   "metadata": {},
   "source": [
    "#Question'd'How many total lines of code (including comments and blank lines) were deleted?\n",
    "\n"
   ]
  },
  {
   "cell_type": "code",
   "execution_count": 122,
   "metadata": {},
   "outputs": [
    {
     "name": "stdout",
     "output_type": "stream",
     "text": [
      "('Total lines DELETED including comments and blank lines:  '\n",
      " 'modules/org.restlet.ext.xml/build.properties       |   4 +')\n"
     ]
    }
   ],
   "source": [
    "numberoflinesdeleted = repo.git.show(\"--stat\", \"d1315e7e6e\").splitlines()\n",
    "\n",
    "pprint.pprint(\"Total lines DELETED including comments and blank lines: \"+numberoflinesdeleted[10])\n"
   ]
  },
  {
   "cell_type": "markdown",
   "metadata": {},
   "source": [
    "#Question'e'How many total lines of code (including comments and blank lines) were added?"
   ]
  },
  {
   "cell_type": "code",
   "execution_count": 129,
   "metadata": {},
   "outputs": [
    {
     "name": "stdout",
     "output_type": "stream",
     "text": [
      "'Total lines ADDED including comments and blank lines: Representation.java'\n"
     ]
    }
   ],
   "source": [
    "numberoflinesadded = repo.git.show(\"--stat\", \"d1315e7e6e\").splitlines()\n",
    "pprint.pprint(\"Total lines ADDED including comments and blank lines: \"+numberoflinesadded[12][32:51])\n"
   ]
  },
  {
   "cell_type": "markdown",
   "metadata": {},
   "source": [
    "#Question'f'How many total lines of code (excluding comments and blank lines) were deleted?"
   ]
  },
  {
   "cell_type": "code",
   "execution_count": 96,
   "metadata": {},
   "outputs": [
    {
     "name": "stdout",
     "output_type": "stream",
     "text": [
      "'Total lines DELETED including comments and blank lines: , 2'\n"
     ]
    }
   ],
   "source": [
    "numberoflinesdeleted = repo.git.show(\"--stat\", \"d1315e7e6e\").splitlines()\n",
    "\n",
    "pprint.pprint(\"Total lines DELETED including comments and blank lines: \"+numberoflinesdeleted[18][17:20])\n"
   ]
  },
  {
   "cell_type": "markdown",
   "metadata": {},
   "source": [
    "#Question ‘g’ How many total lines of code (excluding comments and blank lines) were added?"
   ]
  },
  {
   "cell_type": "code",
   "execution_count": 97,
   "metadata": {},
   "outputs": [
    {
     "name": "stdout",
     "output_type": "stream",
     "text": [
      "'Total lines ADDED excluding comments and blank lines: , 2'\n"
     ]
    }
   ],
   "source": [
    "totalLinesAddedExc = repo.git.show(\"--stat\", \"--ignore-blank-lines\", \"d1315e7e6e\").splitlines()\n",
    "\n",
    "pprint.pprint(\"Total lines ADDED excluding comments and blank lines: \"+totalLinesAddedExc[18][17:20])"
   ]
  },
  {
   "cell_type": "markdown",
   "metadata": {},
   "source": [
    "#Question'h'How many days were between the current fixing commit and the previous commit of each affected file?"
   ]
  },
  {
   "cell_type": "code",
   "execution_count": null,
   "metadata": {},
   "outputs": [],
   "source": [
    "from datetime import datetime\n",
    "from datetime import date\n",
    "DateOfFixingCommit = repo.git.log(\"-1\" ,\"--format=\\\"%ai\\\"\", \"97a8d1d62612683817c785e99c4166bcde8cf1c\",\"--\",\"modules/org.restlet.ext.xml/src/main/java/org/restlet/ext/xml/XmlRepresentation.java\").splitlines()\n",
    "DateOfFixingCommit=DateOfFixingCommit[0][1:11]\n",
    "DateOfPrevCommit = repo.git.log(\"-1\" ,\"--format=\\\"%ai\\\"\",\"-p\",\"97a8d1d62612683817c785e99c4166bcde8cf1c^\",\"--\",\"modules/org.restlet.ext.xml/src/main/java/org/restlet/ext/xml/XmlRepresentation.java\").splitlines()\n",
    "DateOfPrevCommit=DateOfPrevCommit[0][1:11]\n",
    "DateOfPrevCommit= datetime.strptime(DateOfPrevCommit,\"%Y-%m-%d\")\n",
    "DateOfFixingCommit= datetime.strptime(DateOfFixingCommit,\"%Y-%m-%d\")\n",
    "Days_between=(DateOfFixingCommit-DateOfPrevCommit).days\n",
    "print(Days_between, \"Days\")"
   ]
  },
  {
   "cell_type": "markdown",
   "metadata": {},
   "source": [
    "#Question I How many time has each affected file of the current fixing commit been modified in the past since their creation (including rename of the file)?\n",
    "\n"
   ]
  },
  {
   "cell_type": "code",
   "execution_count": 135,
   "metadata": {},
   "outputs": [
    {
     "name": "stdout",
     "output_type": "stream",
     "text": [
      "0\n"
     ]
    }
   ],
   "source": [
    "Commit_count=repo.git.log(\"--follow\",\"d1315e7e6e\",\"--\",\"modules/org.restlet.ext.xml/src/main/java/org/restlet/ext/xml/DomRepresentation.java\")\n",
    "print(Commit_count.count('commit'))"
   ]
  },
  {
   "cell_type": "markdown",
   "metadata": {},
   "source": [
    "Question‘J’ j. Which developers have modified each affected file since its creation?"
   ]
  },
  {
   "cell_type": "code",
   "execution_count": 137,
   "metadata": {},
   "outputs": [
    {
     "name": "stdout",
     "output_type": "stream",
     "text": [
      "''\n"
     ]
    }
   ],
   "source": [
    "developer_count=repo.git.log(\"--format=\\\"%aN\\\"\",\"d1315e7e6e\",\"--\",\"modules/org.restlet.ext.xml/src/main/java/org/restlet/ext/xml/DomRepresentation.java\")\n",
    "pprint.pprint(developer_count)"
   ]
  },
  {
   "cell_type": "markdown",
   "metadata": {},
   "source": [
    "Question'k' Which developers have modified each affected file since its creation? For each developer identified, how many commits have each of them submitted?"
   ]
  },
  {
   "cell_type": "code",
   "execution_count": 138,
   "metadata": {},
   "outputs": [
    {
     "name": "stdout",
     "output_type": "stream",
     "text": [
      "''\n"
     ]
    }
   ],
   "source": [
    "TopDevelopers=repo.git.shortlog(\"-sn\",\"d1315e7e6e\",\"--\",\"modules/org.restlet.ext.xml/src/main/java/org/restlet/ext/xml/DomRepresentation.java\")\n",
    "pprint.pprint(TopDevelopers)"
   ]
  },
  {
   "cell_type": "code",
   "execution_count": null,
   "metadata": {},
   "outputs": [],
   "source": [
    "class vcc:\n",
    "    \n",
    "    def __init__(this, target_repo, flags):\n",
    "        this.repo = git.Repo(target_repo)\n",
    "        this.flag = flags\n",
    "    def get_vcccommits(this, commit, files):\n",
    "    \n",
    "        blamed_commits = {}\n",
    "        added_blamed_commits = {}\n",
    "        removed_blamed_commits = {}\n",
    "        for file in files:\n",
    "            \n",
    "            diff_full_context = this.repo.git.diff(\"-W\", commit + \"~\", commit, \"--\", file)\n",
    "        \n",
    "            diff_no_context = this.repo.git.diff(\"-U0\", commit + \"~\", commit, \"--\", file)\n",
    "        \n",
    "            added_lines = set()\n",
    "           \n",
    "            removed_lines = set()\n",
    "        \n",
    "        for line in diff_full_context.splitlines():\n",
    "                \n",
    "                if not line.startswith('@@'):\n",
    "                    continue\n",
    "              \n",
    "                clean_line = line.split('@@')[1]\n",
    "                half_line = clean_line.split('+')[1]\n",
    "                start = int(half_line.split(',')[0])\n",
    "                if ',' in half_line:\n",
    "                    length = int(half_line.split(',')[1])\n",
    "                else:\n",
    "                    length = 1\n",
    "                 \n",
    "                for number in range(start, start + length):\n",
    "                    added_lines.add(number)\n",
    "            \n",
    "        for line in diff_no_context.splitlines():\n",
    "                if not line.startswith('@@'):\n",
    "                    continue\n",
    "               \n",
    "                clean_line = line.split('@@')[1]\n",
    "                half_line = clean_line.split('+')[0]\n",
    "                \n",
    "                half_line = half_line.replace('-','')\n",
    "                \n",
    "                start = int(half_line.split(',')[0])\n",
    "                if ',' in half_line:\n",
    "                    length = int(half_line.split(',')[1])\n",
    "                else:\n",
    "                    length = 1\n",
    "                \n",
    "                for number in range(start, start + length):\n",
    "                    removed_lines.add(number)\n",
    "                for line in added_lines:\n",
    "                    if this.flag == '':\n",
    "                         blame = this.repo.git.blame(\"-L\", str(line) + \",\" + str(line+1), commit, \"--\", file)\n",
    "                    else:\n",
    "                         blame = this.repo.git.blame(\"-L\", str(line) + \",\" + str(line+1), this.flag, commit, \"--\", file)\n",
    "                    \n",
    "                         blamed_commit = blame.split(\" \")[0]\n",
    "            \n",
    "                \n",
    "                if commit.startswith(blamed_commit):\n",
    "                    continue\n",
    "                    \n",
    "\n",
    "                if blamed_commit in blamed_commits:\n",
    "                    blamed_commits[blamed_commit] += 1\n",
    "                else:\n",
    "                    blamed_commits[blamed_commit] = 1\n",
    "               \n",
    "                \n",
    "                if blamed_commit in added_blamed_commits:\n",
    "                    added_blamed_commits[blamed_commit] += 1\n",
    "                else:\n",
    "                    added_blamed_commits[blamed_commit] = 1\n",
    "                    \n",
    "                for line in removed_lines:\n",
    "                    if this.flag == '':\n",
    "                        blame = this.repo.git.blame(\"-L\", str(line) + \",\" + str(line+1), commit + \"~\", \"--\", file)\n",
    "                    else:\n",
    "                        blame = this.repo.git.blame(\"-L\", str(line) + \",\" + str(line+1), this.flag, commit + \"~\", \"--\", file)\n",
    "                    \n",
    "                        blamed_commit = blame.split(\" \")[0]\n",
    "                \n",
    "               \n",
    "                if commit.startswith(blamed_commit):\n",
    "                    continue\n",
    "            \n",
    "                if blamed_commit in blamed_commits:\n",
    "                    blamed_commits[blamed_commit] += 1\n",
    "                else:\n",
    "                    blamed_commits[blamed_commit] = 1\n",
    "                    \n",
    "                if blamed_commit in removed_blamed_commits:\n",
    "                    removed_blamed_commits[blamed_commit] += 1\n",
    "                else:\n",
    "                    removed_blamed_commits[blamed_commit] = 1\n",
    "        \n",
    "        print(\"Blamed commits for lines which were added: \")\n",
    "        print(added_blamed_commits)\n",
    "        print(\"Blamed commits for lines which were removed: \")\n",
    "        print(removed_blamed_commits)\n",
    "        return blamed_commits\n",
    "    \n",
    "    def selectvcc(blamed_commits):\n",
    "        max_blame = 0\n",
    "        commit = ''\n",
    "        for key, value in blamed_commits.items():\n",
    "            if value > max_blame:\n",
    "                max_blame = value\n",
    "                commit = key\n",
    "            \n",
    "        return commit\n"
   ]
  },
  {
   "cell_type": "code",
   "execution_count": 193,
   "metadata": {},
   "outputs": [
    {
     "name": "stdout",
     "output_type": "stream",
     "text": [
      "rest with: \n",
      "Blamed commits for lines which were added: \n",
      "{'a0600a06db': 3, '786320c793': 1, '5e02ce6de2': 1, 'cf52e3dfcc': 1, '405b6f6c83': 802, 'f59b2a81a2': 4, 'bcb665dc02': 4, 'c06f3eec75': 9, 'b356601782': 6, 'a72a92455a': 2, 'a551f961b2': 25, '2d0239f7a4': 17}\n",
      "Blamed commits for lines which were removed: \n",
      "{'405b6f6c83': 1}\n",
      "************Total blamed commits*************: \n",
      "{'a0600a06db': 3, '786320c793': 1, '5e02ce6de2': 1, 'cf52e3dfcc': 1, '405b6f6c83': 803, 'f59b2a81a2': 4, 'bcb665dc02': 4, 'c06f3eec75': 9, 'b356601782': 6, 'a72a92455a': 2, 'a551f961b2': 25, '2d0239f7a4': 17}\n",
      "Vulnerability Causing Commit: \n",
      "405b6f6c83\n",
      "rest with: -w\n",
      "Blamed commits for lines which were added: \n",
      "{'a0600a06db': 4, '5e02ce6de2': 1, 'cf52e3dfcc': 1, 'd1315e7e6e': 465, 'f59b2a81a2': 4, 'bcb665dc02': 4, 'c3e5155261': 1, '4d2c4ab61a': 64, 'c06f3eec75': 9, 'b356601782': 6, 'a72a92455a': 2, 'b27c2ddcb4': 98, '5d97c80683': 6, 'a551f961b2': 25, '233727c1d0': 87, 'a90348ed5d': 53, '0889cac97a': 2, '1dd4a56df4': 1, '2d0239f7a4': 16, '7ebaf61580': 7, 'ec692bd3b5': 1, 'ab5ad12fe1': 13, 'b8dff5f1fb': 1, '21f61084d4': 4}\n",
      "Blamed commits for lines which were removed: \n",
      "{'233727c1d0': 1}\n",
      "************Total blamed commits*************: \n",
      "{'a0600a06db': 4, '5e02ce6de2': 1, 'cf52e3dfcc': 1, 'd1315e7e6e': 465, 'f59b2a81a2': 4, 'bcb665dc02': 4, 'c3e5155261': 1, '4d2c4ab61a': 64, 'c06f3eec75': 9, 'b356601782': 6, 'a72a92455a': 2, 'b27c2ddcb4': 98, '5d97c80683': 6, 'a551f961b2': 25, '233727c1d0': 88, 'a90348ed5d': 53, '0889cac97a': 2, '1dd4a56df4': 1, '2d0239f7a4': 16, '7ebaf61580': 7, 'ec692bd3b5': 1, 'ab5ad12fe1': 13, 'b8dff5f1fb': 1, '21f61084d4': 4}\n",
      "Vulnerability Causing Commit: \n",
      "d1315e7e6e\n",
      "rest with: -wM\n",
      "Blamed commits for lines which were added: \n",
      "{'a0600a06db': 4, '5e02ce6de2': 1, 'cf52e3dfcc': 1, 'd1315e7e6e': 478, 'f59b2a81a2': 4, 'bcb665dc02': 4, 'c3e5155261': 1, '4d2c4ab61a': 71, 'c06f3eec75': 9, 'b356601782': 6, 'a72a92455a': 2, 'b27c2ddcb4': 78, '5d97c80683': 6, '233727c1d0': 103, 'a90348ed5d': 66, 'a551f961b2': 6, '0889cac97a': 2, '1dd4a56df4': 1, '2d0239f7a4': 6, '7ebaf61580': 7, 'ec692bd3b5': 1, 'ab5ad12fe1': 13, 'b8dff5f1fb': 1, '21f61084d4': 4}\n",
      "Blamed commits for lines which were removed: \n",
      "{'233727c1d0': 1}\n",
      "************Total blamed commits*************: \n",
      "{'a0600a06db': 4, '5e02ce6de2': 1, 'cf52e3dfcc': 1, 'd1315e7e6e': 478, 'f59b2a81a2': 4, 'bcb665dc02': 4, 'c3e5155261': 1, '4d2c4ab61a': 71, 'c06f3eec75': 9, 'b356601782': 6, 'a72a92455a': 2, 'b27c2ddcb4': 78, '5d97c80683': 6, '233727c1d0': 104, 'a90348ed5d': 66, 'a551f961b2': 6, '0889cac97a': 2, '1dd4a56df4': 1, '2d0239f7a4': 6, '7ebaf61580': 7, 'ec692bd3b5': 1, 'ab5ad12fe1': 13, 'b8dff5f1fb': 1, '21f61084d4': 4}\n",
      "Vulnerability Causing Commit: \n",
      "d1315e7e6e\n",
      "rest with: -wC\n",
      "Blamed commits for lines which were added: \n",
      "{'a0600a06db': 4, '5e02ce6de2': 1, 'cf52e3dfcc': 1, 'd1315e7e6e': 478, 'f59b2a81a2': 4, 'bcb665dc02': 4, 'c3e5155261': 1, '4d2c4ab61a': 71, 'c06f3eec75': 9, 'b356601782': 6, 'a72a92455a': 2, 'b27c2ddcb4': 78, '5d97c80683': 6, '233727c1d0': 99, 'a90348ed5d': 66, 'a551f961b2': 6, '0889cac97a': 2, '1dd4a56df4': 1, '2d0239f7a4': 6, '7ebaf61580': 7, 'ec692bd3b5': 1, 'ab5ad12fe1': 13, 'b8dff5f1fb': 1, '21f61084d4': 4, '211ff03c57': 4}\n",
      "Blamed commits for lines which were removed: \n",
      "{'233727c1d0': 1}\n",
      "************Total blamed commits*************: \n",
      "{'a0600a06db': 4, '5e02ce6de2': 1, 'cf52e3dfcc': 1, 'd1315e7e6e': 478, 'f59b2a81a2': 4, 'bcb665dc02': 4, 'c3e5155261': 1, '4d2c4ab61a': 71, 'c06f3eec75': 9, 'b356601782': 6, 'a72a92455a': 2, 'b27c2ddcb4': 78, '5d97c80683': 6, '233727c1d0': 100, 'a90348ed5d': 66, 'a551f961b2': 6, '0889cac97a': 2, '1dd4a56df4': 1, '2d0239f7a4': 6, '7ebaf61580': 7, 'ec692bd3b5': 1, 'ab5ad12fe1': 13, 'b8dff5f1fb': 1, '21f61084d4': 4, '211ff03c57': 4}\n",
      "Vulnerability Causing Commit: \n",
      "d1315e7e6e\n",
      "rest with: -wCC\n",
      "Blamed commits for lines which were added: \n",
      "{'a0600a06db': 4, '5e02ce6de2': 1, 'cf52e3dfcc': 1, 'd1315e7e6e': 478, 'f59b2a81a2': 4, 'bcb665dc02': 4, 'c3e5155261': 1, '4d2c4ab61a': 71, 'c06f3eec75': 9, 'b356601782': 6, 'a72a92455a': 2, 'b27c2ddcb4': 78, '5d97c80683': 6, '233727c1d0': 99, 'a90348ed5d': 66, 'a551f961b2': 6, '0889cac97a': 2, '1dd4a56df4': 1, '2d0239f7a4': 6, '7ebaf61580': 7, 'ec692bd3b5': 1, 'ab5ad12fe1': 13, 'b8dff5f1fb': 1, '21f61084d4': 4, '211ff03c57': 4}\n",
      "Blamed commits for lines which were removed: \n",
      "{'233727c1d0': 1}\n",
      "************Total blamed commits*************: \n",
      "{'a0600a06db': 4, '5e02ce6de2': 1, 'cf52e3dfcc': 1, 'd1315e7e6e': 478, 'f59b2a81a2': 4, 'bcb665dc02': 4, 'c3e5155261': 1, '4d2c4ab61a': 71, 'c06f3eec75': 9, 'b356601782': 6, 'a72a92455a': 2, 'b27c2ddcb4': 78, '5d97c80683': 6, '233727c1d0': 100, 'a90348ed5d': 66, 'a551f961b2': 6, '0889cac97a': 2, '1dd4a56df4': 1, '2d0239f7a4': 6, '7ebaf61580': 7, 'ec692bd3b5': 1, 'ab5ad12fe1': 13, 'b8dff5f1fb': 1, '21f61084d4': 4, '211ff03c57': 4}\n",
      "Vulnerability Causing Commit: \n",
      "d1315e7e6e\n",
      "rest with: -wCCC\n",
      "Blamed commits for lines which were added: \n",
      "{'a0600a06db': 4, '5e02ce6de2': 1, 'cf52e3dfcc': 1, 'd1315e7e6e': 478, 'f59b2a81a2': 4, 'bcb665dc02': 4, 'c3e5155261': 1, '4d2c4ab61a': 71, 'c06f3eec75': 9, 'b356601782': 6, 'a72a92455a': 2, 'b27c2ddcb4': 78, '5d97c80683': 6, '233727c1d0': 99, 'a90348ed5d': 66, 'a551f961b2': 6, '0889cac97a': 2, '1dd4a56df4': 1, '2d0239f7a4': 6, '7ebaf61580': 7, 'ec692bd3b5': 1, 'ab5ad12fe1': 13, 'b8dff5f1fb': 1, '21f61084d4': 4, '211ff03c57': 4}\n",
      "Blamed commits for lines which were removed: \n",
      "{'233727c1d0': 1}\n",
      "************Total blamed commits*************: \n",
      "{'a0600a06db': 4, '5e02ce6de2': 1, 'cf52e3dfcc': 1, 'd1315e7e6e': 478, 'f59b2a81a2': 4, 'bcb665dc02': 4, 'c3e5155261': 1, '4d2c4ab61a': 71, 'c06f3eec75': 9, 'b356601782': 6, 'a72a92455a': 2, 'b27c2ddcb4': 78, '5d97c80683': 6, '233727c1d0': 100, 'a90348ed5d': 66, 'a551f961b2': 6, '0889cac97a': 2, '1dd4a56df4': 1, '2d0239f7a4': 6, '7ebaf61580': 7, 'ec692bd3b5': 1, 'ab5ad12fe1': 13, 'b8dff5f1fb': 1, '21f61084d4': 4, '211ff03c57': 4}\n",
      "Vulnerability Causing Commit: \n",
      "d1315e7e6e\n"
     ]
    }
   ],
   "source": [
    "for item in ['', '-w', '-wM', '-wC', '-wCC', '-wCCC']:\n",
    "    # Run the vulnerability_causing commit finder for rest repository with specified flag\n",
    "    print(\"rest with: \" + item)\n",
    "    rest_vcc_finder = vulnerability_causing_commit_finder(local_link_restlet_framework, item)\n",
    "    result = rest_vcc_finder.get_blamed_commits(restlet_fixing_commit,restlet_files) \n",
    "    print(\"************Total blamed commits*************: \")\n",
    "    print(result)\n",
    "    vulnerability_causing_commit = vulnerability_causing_commit_finder.select_vulnerability_causing_commit(result)\n",
    "    print(\"Vulnerability Causing Commit: \")\n",
    "    print(vulnerability_causing_commit)"
   ]
  },
  {
   "cell_type": "markdown",
   "metadata": {},
   "source": [
    "#\n",
    "SILARUDDIN SHAIK\n",
    "ID: A1782580\n",
    "1. CVE-ID - CVE-2018-8027\n",
    "2. Project Link1: https://github.com/apache/camel\n",
    "3. Vulnerability contributing Commit - \"115cb3affbe2\""
   ]
  },
  {
   "cell_type": "code",
   "execution_count": 226,
   "metadata": {},
   "outputs": [],
   "source": [
    "import os\n",
    "# Set the git executable location. If you are running this script, make sure you set this to be where git is \n",
    "# on your computer (My git is in an odd place due to the way my computer is set up!)\n",
    "os.environ[\"GIT_PYTHON_REFRESH\"] = \"quiet\"\n",
    "import git\n",
    "import datetime\n",
    "import time"
   ]
  },
  {
   "cell_type": "code",
   "execution_count": 227,
   "metadata": {},
   "outputs": [],
   "source": [
    "import numpy as np\n",
    "import pandas as pd\n",
    "import os\n",
    "import re\n",
    "import copy\n",
    "from collections import Counter\n",
    "# Specify git executable file for GitPython in Jupyter Notebook (In IDE, it can still work without this line.)\n",
    "os.environ[\"GIT_PYTHON_REFRESH\"] = \"quiet\"\n",
    "from collections import Counter\n",
    "import git\n",
    "from git import RemoteProgress\n",
    "import pprint as pprint\n",
    "from git import Repo\n",
    "import matplotlib.pyplot as plt\n",
    "import seaborn as sns\n",
    "import copy\n",
    "from collections import Counter\n",
    "%matplotlib inline"
   ]
  },
  {
   "cell_type": "code",
   "execution_count": 228,
   "metadata": {},
   "outputs": [],
   "source": [
    "class Progress(RemoteProgress):\n",
    "    def update(self, op_code, cur_count, max_count=None, message=''):\n",
    "        print(self._cur_line)"
   ]
  },
  {
   "cell_type": "code",
   "execution_count": 229,
   "metadata": {},
   "outputs": [],
   "source": [
    "repo = Repo(\"restlet-framework-java\")\n",
    "fixing_commit =\"97a8d1d62612683817c785e99c4166bcde8cf1c\""
   ]
  },
  {
   "cell_type": "code",
   "execution_count": 230,
   "metadata": {},
   "outputs": [
    {
     "name": "stdout",
     "output_type": "stream",
     "text": [
      "commit 97a8d1d62612683817c785e99c4166bcde8cf1c7\n",
      "Author: thboileau <thboileau@gmail.com>\n",
      "Date:   Mon Oct 2 14:31:38 2017 +0200\n",
      "\n",
      "    XEE injection security in XML extension. Reported by Man Yue Mo.\n"
     ]
    }
   ],
   "source": [
    "show_info = repo.git.show(\"-s\", fixing_commit).splitlines()\n",
    "for line in show_info:\n",
    "    print(line)"
   ]
  },
  {
   "cell_type": "code",
   "execution_count": 231,
   "metadata": {},
   "outputs": [
    {
     "name": "stdout",
     "output_type": "stream",
     "text": [
      "the total number of affected files are\n",
      " build/tmpl/text/changes.txt                                          | 3 +++\n",
      " .../src/main/java/org/restlet/ext/xml/XmlRepresentation.java         | 5 ++++-\n",
      " 2 files changed, 7 insertions(+), 1 deletion(-)\n"
     ]
    }
   ],
   "source": [
    "total_affectedfiles = repo.git.show(\"--stat\",fixing_commit).splitlines()\n",
    "print(\"the total number of affected files are\")\n",
    "total_affectedfiles=total_affectedfiles[6:]\n",
    "for line in total_affectedfiles:\n",
    "    print(line)"
   ]
  },
  {
   "cell_type": "code",
   "execution_count": 232,
   "metadata": {},
   "outputs": [],
   "source": [
    "VCCCommits=['d1315e7e6e']"
   ]
  },
  {
   "cell_type": "markdown",
   "metadata": {},
   "source": [
    "#Is the current fixing commit and its corresponding VCC the same??"
   ]
  },
  {
   "cell_type": "code",
   "execution_count": 233,
   "metadata": {},
   "outputs": [
    {
     "name": "stdout",
     "output_type": "stream",
     "text": [
      "Parent commit exists, as such it isn't an initial commit!\n"
     ]
    }
   ],
   "source": [
    "for VCC in VCCCommits:\n",
    "    if VCC[0]=='^':\n",
    "        VCC=VCC[1:]\n",
    "    try:\n",
    "        VCCParent= repo.git.show(VCC+\"^\").splitlines()\n",
    "    except: \n",
    "        pass\n",
    "print(\"Parent commit exists, as such it isn't an initial commit!\")"
   ]
  },
  {
   "cell_type": "markdown",
   "metadata": {},
   "source": [
    "#Is the developer of the current fixing commit and its corresponding VCC \n",
    "the  same?"
   ]
  },
  {
   "cell_type": "code",
   "execution_count": null,
   "metadata": {},
   "outputs": [],
   "source": [
    "commit=repo.commit(fixingCommit)\n",
    "fixing_Commit_Author=commit.author.email\n",
    "print(fixing_Commit_Author)\n",
    "for commits in num_VCCCommits:\n",
    "    VCCcommit=repo.commit(commits)\n",
    "    VCCCommitAuthor=VCCcommit.author.email\n",
    "    if(fixinCommitAuthor==VCCCommitAuthor):\n",
    "        print(\"Yes! fixing commit author: {} is same in commit: {}\".format(fixinCommitAuthor,VCCcommit))"
   ]
  },
  {
   "cell_type": "markdown",
   "metadata": {},
   "source": [
    "#How  many  days  were  between  the  current  fixing  commit  and  its \n",
    "corresponding  VCC?"
   ]
  },
  {
   "cell_type": "code",
   "execution_count": null,
   "metadata": {},
   "outputs": [],
   "source": [
    "from datetime import datetime\n",
    "commit=repo.commit(fixingCommit)\n",
    "fixinCommitAuthor=commit.author.email\n",
    "dateFixing=repo.git.show(\"-s\",\"--format=%ci\",commit).split(\" \")\n",
    "dateFixing=dateFixing[0]\n",
    "dateFixing=datetime.strptime(\"{}\".format(dateFixing), '%Y-%m-%d').date()\n",
    "time_different = 0\n",
    "sum = 0\n",
    "count = 0\n",
    "for commits in VCCCommits:\n",
    "    date=repo.git.show(\"-s\",\"--format=%ci\",commits).split(\" \")\n",
    "    date=date[0]\n",
    "    date= datetime.strptime(\"{}\".format(date), '%Y-%m-%d').date()\n",
    "    days=dateFixing-date\n",
    "    print(\"Fixing commit: {} and VCC commit: {} was fixed in: {} \".format(commit,commits,days))\n",
    "    "
   ]
  },
  {
   "cell_type": "markdown",
   "metadata": {},
   "source": [
    "#Question'a': What was the message and title of the fixing commit? Was there any mention of fixing a bug or vulnerability?"
   ]
  },
  {
   "cell_type": "code",
   "execution_count": 141,
   "metadata": {},
   "outputs": [
    {
     "name": "stdout",
     "output_type": "stream",
     "text": [
      "'    CAMEL-9517: Validator Endpoint- clearCachedSchema added'\n"
     ]
    }
   ],
   "source": [
    "\n",
    "import pprint as pprint\n",
    "show_data = repo.git.show(\"-s\", fixingCommit).splitlines()\n",
    "pprint.pprint(show_data[4])"
   ]
  },
  {
   "cell_type": "markdown",
   "metadata": {},
   "source": [
    "#Question 'b' How many total files were affected in the fixing commit?"
   ]
  },
  {
   "cell_type": "code",
   "execution_count": 142,
   "metadata": {},
   "outputs": [
    {
     "name": "stdout",
     "output_type": "stream",
     "text": [
      "' .../component/validator/ValidatorEndpoint.java     |  74 +++++--'\n"
     ]
    }
   ],
   "source": [
    "numberoffilesaffected = repo.git.show(\"--stat\", \"115cb3affbe2\").splitlines()\n",
    "pprint.pprint(numberoffilesaffected[6])"
   ]
  },
  {
   "cell_type": "code",
   "execution_count": 78,
   "metadata": {},
   "outputs": [],
   "source": [
    "#Question 'c' How many total directories were affected in the fixing commit?"
   ]
  },
  {
   "cell_type": "code",
   "execution_count": 143,
   "metadata": {},
   "outputs": [
    {
     "name": "stdout",
     "output_type": "stream",
     "text": [
      "'Directories affected:  .../processor/validation/ValidatingProcessor.java  '\n"
     ]
    }
   ],
   "source": [
    "totalDirectoriesAffected = repo.git.show(\"--stat\", \"115cb3affbe2\").splitlines()\n",
    "\n",
    "pprint.pprint(\"Directories affected: \"+totalDirectoriesAffected[8][0:52])"
   ]
  },
  {
   "cell_type": "markdown",
   "metadata": {},
   "source": [
    "#Question'd'How many total lines of code (including comments and blank lines) were deleted?"
   ]
  },
  {
   "cell_type": "code",
   "execution_count": 144,
   "metadata": {},
   "outputs": [
    {
     "name": "stdout",
     "output_type": "stream",
     "text": [
      "'Total lines DELETED including comments and blank lines: +), 99 deleti'\n"
     ]
    }
   ],
   "source": [
    "totalLinesDeletedInc = repo.git.show(\"--stat\", \"115cb3affbe2\").splitlines()\n",
    "\n",
    "pprint.pprint(\"Total lines DELETED including comments and blank lines: \"+totalLinesDeletedInc[10][33:46])"
   ]
  },
  {
   "cell_type": "markdown",
   "metadata": {},
   "source": [
    "#Question'e'How many total lines of code (including comments and blank lines) were added?"
   ]
  },
  {
   "cell_type": "code",
   "execution_count": 145,
   "metadata": {},
   "outputs": [
    {
     "name": "stdout",
     "output_type": "stream",
     "text": [
      "'Total lines ADDED including comments and blank lines:  493 insertion'\n"
     ]
    }
   ],
   "source": [
    "totalLinesAddedIncluded = repo.git.show(\"--stat\", \"115cb3affbe2\").splitlines()\n",
    "\n",
    "pprint.pprint(\"Total lines ADDED including comments and blank lines: \"+totalLinesAddedIncluded[10][17:31])"
   ]
  },
  {
   "cell_type": "markdown",
   "metadata": {},
   "source": [
    "#Question'f'How many total lines of code (excluding comments and blank lines) were deleted?"
   ]
  },
  {
   "cell_type": "code",
   "execution_count": 146,
   "metadata": {},
   "outputs": [
    {
     "name": "stdout",
     "output_type": "stream",
     "text": [
      "'Total lines DELETED excluding comments and blank lines 7 '\n"
     ]
    }
   ],
   "source": [
    "deleted_lines = repo.git.show(\"--stat\", \"--ignore-blank-lines\", \"115cb3affbe2\").splitlines()\n",
    "\n",
    "pprint.pprint(\"Total lines DELETED excluding comments and blank lines 7 \"+deleted_lines[5][17:31])"
   ]
  },
  {
   "cell_type": "markdown",
   "metadata": {},
   "source": [
    "#Question ‘g’ How many total lines of code (excluding comments and blank lines) were added?"
   ]
  },
  {
   "cell_type": "code",
   "execution_count": 147,
   "metadata": {},
   "outputs": [
    {
     "name": "stdout",
     "output_type": "stream",
     "text": [
      "'Total lines ADDED excluding comments and blank lines:  201'\n"
     ]
    }
   ],
   "source": [
    "lines_added = repo.git.show(\"--stat\", \"--ignore-blank-lines\", \"115cb3affbe2\").splitlines()\n",
    "\n",
    "pprint.pprint(\"Total lines ADDED excluding comments and blank lines: \"+lines_added[2][27:31])"
   ]
  },
  {
   "cell_type": "markdown",
   "metadata": {},
   "source": [
    "#Question'h'How many days were between the current fixing commit and the previous commit of each affected file?"
   ]
  },
  {
   "cell_type": "code",
   "execution_count": 150,
   "metadata": {},
   "outputs": [
    {
     "name": "stdout",
     "output_type": "stream",
     "text": [
      "429 Days\n"
     ]
    }
   ],
   "source": [
    "from datetime import datetime\n",
    "from datetime import date\n",
    "DateOfFixingCommit = repo.git.log(\"-1\" ,\"--format=\\\"%ai\\\"\", \"115cb3affbe2\", \"--\", \"camel-core/src/main/java/org/apache/camel/processor/validation/ValidatingProcessor.java\").splitlines()\n",
    "DateOfFixingCommit=DateOfFixingCommit[0][1:11]\n",
    "DateOfPrevCommit = repo.git.log(\"-1\" ,\"--format=\\\"%ai\\\"\",\"-p\", \"115cb3affbe2^\", \"--\", \"camel-core/src/main/java/org/apache/camel/processor/validation/ValidatingProcessor.java\").splitlines()\n",
    "DateOfPrevCommit=DateOfPrevCommit[0][1:11]\n",
    "DateOfPrevCommit= datetime.strptime(DateOfPrevCommit,\"%Y-%m-%d\")\n",
    "DateOfFixingCommit= datetime.strptime(DateOfFixingCommit,\"%Y-%m-%d\")\n",
    "Between_days=(DateOfFixingCommit-DateOfPrevCommit).days\n",
    "print(Between_days,\"Days\")"
   ]
  },
  {
   "cell_type": "markdown",
   "metadata": {},
   "source": [
    "#Question I How many time has each affected file of the current fixing commit been modified in the past since their creation (including rename of the file)?"
   ]
  },
  {
   "cell_type": "code",
   "execution_count": 151,
   "metadata": {},
   "outputs": [
    {
     "name": "stdout",
     "output_type": "stream",
     "text": [
      "31\n"
     ]
    }
   ],
   "source": [
    "Commits=repo.git.log(\"--follow\",\"115cb3affbe2\",\"--\",\"camel-core/src/main/java/org/apache/camel/processor/validation/ValidatingProcessor.java\")\n",
    "print(Commits.count('commit'))"
   ]
  },
  {
   "cell_type": "markdown",
   "metadata": {},
   "source": [
    "Question‘J’ j. Which developers have modified each affected file since its creation?"
   ]
  },
  {
   "cell_type": "code",
   "execution_count": 152,
   "metadata": {},
   "outputs": [
    {
     "name": "stdout",
     "output_type": "stream",
     "text": [
      "('\"Franz Forsthofer\"\\n'\n",
      " '\"Claus Ibsen\"\\n'\n",
      " '\"Willem Jiang\"\\n'\n",
      " '\"Babak Vahdat\"\\n'\n",
      " '\"Willem Jiang\"\\n'\n",
      " '\"cmueller\"\\n'\n",
      " '\"Babak Vahdat\"\\n'\n",
      " '\"Claus Ibsen\"\\n'\n",
      " '\"Claus Ibsen\"\\n'\n",
      " '\"Claus Ibsen\"\\n'\n",
      " '\"Willem Ning Jiang\"\\n'\n",
      " '\"Claus Ibsen\"\\n'\n",
      " '\"Hadrian Zbarcea\"\\n'\n",
      " '\"Claus Ibsen\"\\n'\n",
      " '\"Claus Ibsen\"\\n'\n",
      " '\"Christian Mueller\"\\n'\n",
      " '\"Claus Ibsen\"\\n'\n",
      " '\"Claus Ibsen\"\\n'\n",
      " '\"Claus Ibsen\"\\n'\n",
      " '\"Claus Ibsen\"\\n'\n",
      " '\"Claus Ibsen\"\\n'\n",
      " '\"Roman Kalukiewicz\"\\n'\n",
      " '\"Claus Ibsen\"\\n'\n",
      " '\"Claus Ibsen\"\\n'\n",
      " '\"Claus Ibsen\"\\n'\n",
      " '\"Claus Ibsen\"\\n'\n",
      " '\"Willem Ning Jiang\"\\n'\n",
      " '\"Hiram R. Chirino\"\\n'\n",
      " '\"James Strachan\"\\n'\n",
      " '\"James Strachan\"\\n'\n",
      " '\"James Strachan\"')\n"
     ]
    }
   ],
   "source": [
    "Developers=repo.git.log(\"--format=\\\"%aN\\\"\",\"115cb3affbe2\",\"--\",\n",
    "\"camel-core/src/main/java/org/apache/camel/processor/validation/ValidatingProcessor.java\")\n",
    "pprint.pprint(Developers)"
   ]
  },
  {
   "cell_type": "markdown",
   "metadata": {},
   "source": [
    "Question'k' Which developers have modified each affected file since its creation? For each developer identified, how many commits have each of them submitted?"
   ]
  },
  {
   "cell_type": "code",
   "execution_count": 153,
   "metadata": {},
   "outputs": [
    {
     "name": "stdout",
     "output_type": "stream",
     "text": [
      "('    16\\tClaus Ibsen\\n'\n",
      " '     3\\tJames Strachan\\n'\n",
      " '     2\\tWillem Jiang\\n'\n",
      " '     2\\tWillem Ning Jiang\\n'\n",
      " '     2\\tBabak Vahdat\\n'\n",
      " '     1\\tRoman Kalukiewicz\\n'\n",
      " '     1\\tcmueller\\n'\n",
      " '     1\\tChristian Mueller\\n'\n",
      " '     1\\tFranz Forsthofer\\n'\n",
      " '     1\\tHadrian Zbarcea\\n'\n",
      " '     1\\tHiram R. Chirino')\n"
     ]
    }
   ],
   "source": [
    "TopDevelopers=repo.git.shortlog(\"-sn\",\"115cb3affbe2\",\"--\",\n",
    "                                \"camel-core/src/main/java/org/apache/camel/processor/validation/ValidatingProcessor.java\")\n",
    "pprint.pprint(TopDevelopers)"
   ]
  },
  {
   "cell_type": "code",
   "execution_count": null,
   "metadata": {},
   "outputs": [],
   "source": []
  }
 ],
 "metadata": {
  "kernelspec": {
   "display_name": "Python 3",
   "language": "python",
   "name": "python3"
  },
  "language_info": {
   "codemirror_mode": {
    "name": "ipython",
    "version": 3
   },
   "file_extension": ".py",
   "mimetype": "text/x-python",
   "name": "python",
   "nbconvert_exporter": "python",
   "pygments_lexer": "ipython3",
   "version": "3.7.4"
  }
 },
 "nbformat": 4,
 "nbformat_minor": 2
}
