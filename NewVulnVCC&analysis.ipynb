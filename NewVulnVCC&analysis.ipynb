{
 "cells": [
  {
   "attachments": {
    "image.png": {
     "image/png": "[encoded data removed]"
    }
   },
   "cell_type": "markdown",
   "metadata": {},
   "source": [
    " # new vulnerability 1\n",
    "# Github link: https://github.com/apache/geronimo\n",
    "# Cve Id: CVE-2009-0039\n",
    " #Cwe id: 352\n",
    "Vulnerability type: Cross Site Request Forgery(csrf)\n",
    "Fixing Commit: 67dda0760bb0925ead201ddd5d809ff53686d63f\n",
    "![image.png](attachment:image.png)"
   ]
  },
  {
   "cell_type": "code",
   "execution_count": 2,
   "metadata": {},
   "outputs": [],
   "source": [
    "import os\n",
    "os.environ[\"GIT_PYTHON_REFRESH\"] = \"quiet\"\n",
    "import git\n",
    "import datetime\n",
    "import time"
   ]
  },
  {
   "cell_type": "code",
   "execution_count": 3,
   "metadata": {},
   "outputs": [],
   "source": [
    "import numpy as np\n",
    "import pandas as pd\n",
    "import os\n",
    "import re\n",
    "import copy\n",
    "from collections import Counter\n",
    "os.environ[\"GIT_PYTHON_REFRESH\"] = \"quiet\"\n",
    "from collections import Counter\n",
    "import git\n",
    "from git import RemoteProgress\n",
    "import pprint as pprint\n",
    "from git import Repo\n",
    "import matplotlib.pyplot as plt\n",
    "import seaborn as sns\n",
    "import copy\n",
    "from collections import Counter\n",
    "%matplotlib inline"
   ]
  },
  {
   "cell_type": "code",
   "execution_count": 4,
   "metadata": {},
   "outputs": [],
   "source": [
    "class first(RemoteProgress):\n",
    "    def update(self, op_code, cur_count, max_count=None, message=''):\n",
    "        print(self._cur_line)"
   ]
  },
  {
   "cell_type": "code",
   "execution_count": 25,
   "metadata": {},
   "outputs": [],
   "source": [
    "repo = Repo(\"geronimo/\")\n",
    "fixing_commit =\"67dda0760bb0925ead201ddd5d809ff53686d63f\""
   ]
  },
  {
   "cell_type": "markdown",
   "metadata": {},
   "source": [
    "# info of the commit"
   ]
  },
  {
   "cell_type": "code",
   "execution_count": 26,
   "metadata": {
    "scrolled": false
   },
   "outputs": [
    {
     "name": "stdout",
     "output_type": "stream",
     "text": [
      "commit 67dda0760bb0925ead201ddd5d809ff53686d63f\n",
      "Author: Joseph Alan Bohn <jbohn@apache.org>\n",
      "Date:   Wed Mar 25 15:11:16 2009 +0000\n",
      "\n",
      "    GERONIMO-4597 Validate Web Admin Console input - fixes for CVE-2008-5518, CVE-2009-0038, and CVE-2009-0039\n",
      "    \n",
      "    git-svn-id: https://svn.apache.org/repos/asf/geronimo/server/trunk@758297 13f79535-47bb-0310-9956-ffa450edef68\n"
     ]
    }
   ],
   "source": [
    "show_info = repo.git.show(\"-s\", fixing_commit).splitlines()\n",
    "for line in show_info:\n",
    "    print(line)"
   ]
  },
  {
   "cell_type": "markdown",
   "metadata": {},
   "source": [
    "# number of effected files"
   ]
  },
  {
   "cell_type": "code",
   "execution_count": 82,
   "metadata": {},
   "outputs": [
    {
     "name": "stdout",
     "output_type": "stream",
     "text": [
      "the total number of affected files are\n",
      "    git-svn-id: https://svn.apache.org/repos/asf/geronimo/server/trunk@758297 13f79535-47bb-0310-9956-ffa450edef68\n",
      "\n",
      " .../kernel/repository/AbstractRepository.java      |  15 +-\n",
      " .../apache/geronimo/kernel/util/InputUtils.java    |  55 ++++\n",
      " .../security/keystore/FileKeystoreManager.java     |   5 +\n",
      " plugins/ca-helper/geronimo-ca-helper/pom.xml       |   6 +\n",
      " .../src/main/webapp/WEB-INF/web.xml                |  14 ++\n",
      " .../WEB-INF/view/keystore/createKeystore.jsp       |   4 +\n",
      " .../main/webapp/WEB-INF/view/repository/normal.jsp |  16 +-\n",
      " plugins/console/console-filter/LICENSE.txt         | 203 +++++++++++++++\n",
      " plugins/console/console-filter/NOTICE.txt          |  11 +\n",
      " plugins/console/console-filter/pom.xml             |  42 ++++\n",
      " .../console/filter/FilterResponseWrapper.java      | 182 ++++++++++++++\n",
      " .../console/filter/ResponseOutputStream.java       |  75 ++++++\n",
      " .../geronimo/console/filter/XSRFHandler.java       | 277 +++++++++++++++++++++\n",
      " .../apache/geronimo/console/filter/XSSHandler.java | 250 +++++++++++++++++++\n",
      " .../geronimo/console/filter/XSSXSRFFilter.java     | 153 ++++++++++++\n",
      " .../console-filter/src/main/resources/XSRF.js      |  71 ++++++\n",
      " plugins/console/console-portal-driver/pom.xml      |   6 +\n",
      " .../src/main/webapp/WEB-INF/web.xml                |  13 +\n",
      " plugins/console/pom.xml                            |   1 +\n",
      " plugins/monitoring/mconsole-war/pom.xml            |   7 +\n",
      " .../monitoring/console/MonitoringPortlet.java      |   6 +-\n",
      " .../webapp/WEB-INF/view/monitoringAddGraph.jsp     |   2 +-\n",
      " .../main/webapp/WEB-INF/view/monitoringAddView.jsp |   4 +-\n",
      " .../webapp/WEB-INF/view/monitoringEditGraph.jsp    |   2 +-\n",
      " .../webapp/WEB-INF/view/monitoringEditView.jsp     |   4 +-\n",
      " .../mconsole-war/src/main/webapp/WEB-INF/web.xml   |  17 ++\n",
      " .../geronimo/console/internaldb/RunSQLHelper.java  |   6 +\n",
      " .../WEB-INF/view/internaldb/runSQLNormal.jsp       |   8 +-\n",
      " plugins/welcome/geronimo-welcome/pom.xml           |   6 +\n",
      " .../src/main/webapp/WEB-INF/web.xml                |  53 +---\n",
      " 30 files changed, 1443 insertions(+), 71 deletions(-)\n"
     ]
    }
   ],
   "source": [
    "total_affectedfiles = repo.git.show(\"--stat\",fixing_commit).splitlines()\n",
    "print(\"the total number of affected files are\")\n",
    "total_affectedfiles=total_affectedfiles[6:]\n",
    "for line in total_affectedfiles:\n",
    "    print(line)"
   ]
  },
  {
   "cell_type": "code",
   "execution_count": 74,
   "metadata": {},
   "outputs": [],
   "source": [
    "remote_link_rest = 'https://github.com/apache/geronimo'"
   ]
  },
  {
   "cell_type": "code",
   "execution_count": 84,
   "metadata": {},
   "outputs": [],
   "source": [
    "rest_fixing_commit = '67dda0760bb0925ead201ddd5d809ff53686d63f'\n",
    "rest_files = ['...dules/geronimo-kernel/src/main/java/org/apache/geronimo/kernel/repository/AbstractRepository.java',\n",
    "        'framework/modules/geronimo-kernel/src/main/java/org/apache/geronimo/kernel/util/InputUtils.java',\n",
    "        '...es/geronimo-security/src/main/java/org/apache/geronimo/security/keystore/FileKeystoreManager.java',\n",
    "        'plugins/ca-helper/geronimo-ca-helper/pom.xml']\n"
   ]
  },
  {
   "cell_type": "code",
   "execution_count": 85,
   "metadata": {},
   "outputs": [],
   "source": [
    "rest_fixing_commit = '67dda0760bb0925ead201ddd5d809ff53686d63f'"
   ]
  },
  {
   "cell_type": "code",
   "execution_count": null,
   "metadata": {},
   "outputs": [],
   "source": [
    "class vcc:\n",
    "    \n",
    "    def __init__(this, target_repo, flags):\n",
    "        this.repo = git.Repo(target_repo)\n",
    "        this.flag = flags\n",
    "    def get_vcccommits(this, commit, files):\n",
    "    \n",
    "        blamed_commits = {}\n",
    "        added_blamed_commits = {}\n",
    "        removed_blamed_commits = {}\n",
    "        for file in files:\n",
    "            \n",
    "            diff_full_context = this.repo.git.diff(\"-W\", commit + \"~\", commit, \"--\", file)\n",
    "        \n",
    "            diff_no_context = this.repo.git.diff(\"-U0\", commit + \"~\", commit, \"--\", file)\n",
    "        \n",
    "            added_lines = set()\n",
    "           \n",
    "            removed_lines = set()\n",
    "        \n",
    "        for line in diff_full_context.splitlines():\n",
    "                \n",
    "                if not line.startswith('@@'):\n",
    "                    continue\n",
    "              \n",
    "                clean_line = line.split('@@')[1]\n",
    "                half_line = clean_line.split('+')[1]\n",
    "                start = int(half_line.split(',')[0])\n",
    "                if ',' in half_line:\n",
    "                    length = int(half_line.split(',')[1])\n",
    "                else:\n",
    "                    length = 1\n",
    "                 \n",
    "                for number in range(start, start + length):\n",
    "                    added_lines.add(number)\n",
    "            \n",
    "        for line in diff_no_context.splitlines():\n",
    "                if not line.startswith('@@'):\n",
    "                    continue\n",
    "               \n",
    "                clean_line = line.split('@@')[1]\n",
    "                half_line = clean_line.split('+')[0]\n",
    "                \n",
    "                half_line = half_line.replace('-','')\n",
    "                \n",
    "                start = int(half_line.split(',')[0])\n",
    "                if ',' in half_line:\n",
    "                    length = int(half_line.split(',')[1])\n",
    "                else:\n",
    "                    length = 1\n",
    "                \n",
    "                for number in range(start, start + length):\n",
    "                    removed_lines.add(number)\n",
    "                for line in added_lines:\n",
    "                    if this.flag == '':\n",
    "                         blame = this.repo.git.blame(\"-L\", str(line) + \",\" + str(line+1), commit, \"--\", file)\n",
    "                    else:\n",
    "                         blame = this.repo.git.blame(\"-L\", str(line) + \",\" + str(line+1), this.flag, commit, \"--\", file)\n",
    "                    \n",
    "                         blamed_commit = blame.split(\" \")[0]\n",
    "            \n",
    "                \n",
    "                if commit.startswith(blamed_commit):\n",
    "                    continue\n",
    "                    \n",
    "\n",
    "                if blamed_commit in blamed_commits:\n",
    "                    blamed_commits[blamed_commit] += 1\n",
    "                else:\n",
    "                    blamed_commits[blamed_commit] = 1\n",
    "               \n",
    "                \n",
    "                if blamed_commit in added_blamed_commits:\n",
    "                    added_blamed_commits[blamed_commit] += 1\n",
    "                else:\n",
    "                    added_blamed_commits[blamed_commit] = 1\n",
    "                    \n",
    "                for line in removed_lines:\n",
    "                    if this.flag == '':\n",
    "                        blame = this.repo.git.blame(\"-L\", str(line) + \",\" + str(line+1), commit + \"~\", \"--\", file)\n",
    "                    else:\n",
    "                        blame = this.repo.git.blame(\"-L\", str(line) + \",\" + str(line+1), this.flag, commit + \"~\", \"--\", file)\n",
    "                    \n",
    "                        blamed_commit = blame.split(\" \")[0]\n",
    "                \n",
    "               \n",
    "                if commit.startswith(blamed_commit):\n",
    "                    continue\n",
    "            \n",
    "                if blamed_commit in blamed_commits:\n",
    "                    blamed_commits[blamed_commit] += 1\n",
    "                else:\n",
    "                    blamed_commits[blamed_commit] = 1\n",
    "                    \n",
    "                if blamed_commit in removed_blamed_commits:\n",
    "                    removed_blamed_commits[blamed_commit] += 1\n",
    "                else:\n",
    "                    removed_blamed_commits[blamed_commit] = 1\n",
    "        \n",
    "        print(\"Blamed commits for lines which were added: \")\n",
    "        print(added_blamed_commits)\n",
    "        print(\"Blamed commits for lines which were removed: \")\n",
    "        print(removed_blamed_commits)\n",
    "        return blamed_commits\n",
    "    \n",
    "    def selectvcc(blamed_commits):\n",
    "        max_blame = 0\n",
    "        commit = ''\n",
    "        for key, value in blamed_commits.items():\n",
    "            if value > max_blame:\n",
    "                max_blame = value\n",
    "                commit = key\n",
    "            \n",
    "        return commit\n"
   ]
  },
  {
   "cell_type": "code",
   "execution_count": null,
   "metadata": {},
   "outputs": [],
   "source": [
    "for item in ['', '-w', '-wM', '-wC', '-wCC', '-wCCC']:\n",
    "    # Run the vulnerability_causing commit finder for rest repository with specified flag\n",
    "    print(\"rest with: \" + item)\n",
    "    rest_vcc_finder = vulnerability_causing_commit_finder(local_link_rest, item)\n",
    "    result = rest_vcc_finder.get_blamed_commits(rest_fixing_commit,rest_files) \n",
    "    print(\"************Total blamed commits*************: \")\n",
    "    print(result)\n",
    "    vulnerability_causing_commit = vulnerability_causing_commit_finder.select_vulnerability_causing_commit(result)\n",
    "    print(\"Vulnerability Causing Commit: \")\n",
    "    print(vulnerability_causing_commit)"
   ]
  },
  {
   "cell_type": "code",
   "execution_count": 58,
   "metadata": {},
   "outputs": [],
   "source": [
    "num_VCCCommits= ['f0bfa16a8b6']"
   ]
  },
  {
   "cell_type": "markdown",
   "metadata": {},
   "source": [
    "#Is the developer of the current fixing commit and its corresponding VCC the same?"
   ]
  },
  {
   "cell_type": "code",
   "execution_count": 59,
   "metadata": {},
   "outputs": [
    {
     "name": "stdout",
     "output_type": "stream",
     "text": [
      "Parent commit exists, as such it isn't an initial commit!\n"
     ]
    }
   ],
   "source": [
    "for VCC in num_VCCCommits:\n",
    "    if VCC[0]=='^':\n",
    "        VCC=VCC[1:]\n",
    "    try:\n",
    "        VCCParent= repo.git.show(VCC+\"^\").splitlines()\n",
    "    except: \n",
    "        pass\n",
    "print(\"Parent commit exists, as such it isn't an initial commit!\")"
   ]
  },
  {
   "cell_type": "markdown",
   "metadata": {},
   "source": [
    "#How  many  days  were  between  the  current  fixing  commit  and  its \n",
    "corresponding  VCC? "
   ]
  },
  {
   "cell_type": "code",
   "execution_count": 60,
   "metadata": {},
   "outputs": [
    {
     "name": "stdout",
     "output_type": "stream",
     "text": [
      "jbohn@apache.org\n"
     ]
    }
   ],
   "source": [
    "commit=repo.commit(fixingCommit)\n",
    "fixing_Commit_Author=commit.author.email\n",
    "print(fixing_Commit_Author)\n",
    "for commits in num_VCCCommits:\n",
    "    num_VCCcommit=repo.commit(commits)\n",
    "    VCCCommitAuthor=VCCcommit.author.email\n",
    "    if(fixinCommitAuthor==VCCCommitAuthor):\n",
    "        print(\"Yes The  fixing commit author is : {} is same in commit: {}\".format(fixinCommitAuthor,VCCcommit))"
   ]
  },
  {
   "cell_type": "markdown",
   "metadata": {},
   "source": [
    "#How many days were between the current fixing commit and its corresponding VCC?\n",
    "\n"
   ]
  },
  {
   "cell_type": "code",
   "execution_count": 61,
   "metadata": {},
   "outputs": [
    {
     "name": "stdout",
     "output_type": "stream",
     "text": [
      "Fixing commit: 67dda0760bb0925ead201ddd5d809ff53686d63f and VCC commit: f0bfa16a8b6 was fixed in: 512 days, 0:00:00 \n"
     ]
    }
   ],
   "source": [
    "from datetime import datetime\n",
    "com=repo.commit(fixingCommit)\n",
    "fixing_Commit_Author=commit.author.email\n",
    "dateof_Fixing=repo.git.show(\"-s\",\"--format=%ci\",commit).split(\" \")\n",
    "dateof_Fixing=dateFixing[0]\n",
    "dateof_Fixing=datetime.strptime(\"{}\".format(dateFixing), '%Y-%m-%d').date()\n",
    "time_different = 0\n",
    "sum = 0\n",
    "count = 0\n",
    "for num_commits in VCCCommits:\n",
    "    date=repo.git.show(\"-s\",\"--format=%ci\",commits).split(\" \")\n",
    "    date=date[0]\n",
    "    date= datetime.strptime(\"{}\".format(date), '%Y-%m-%d').date()\n",
    "    days=dateFixing-date\n",
    "    print(\"Fixing commit: {} and VCC commit: {} was fixed in: {} \".format(commit,commits,days))\n",
    "    "
   ]
  },
  {
   "cell_type": "markdown",
   "metadata": {},
   "source": [
    "#Vulnerability 2:\n",
    "\n",
    "Github link: \thttps://github.com/jenkinsci/checkstyle-plugin\n",
    "Cve Id: CVE-2018-11777\n",
    "Cwe id: 290\n",
    "Vulnerability type: security-bypass vulnerability.\n",
    "Fixing Commit: 00c0ee7bc4b8492476b377a6edafcc33411f14b\n"
   ]
  },
  {
   "cell_type": "code",
   "execution_count": 6,
   "metadata": {},
   "outputs": [],
   "source": [
    "import numpy as np\n",
    "import pandas as pd\n",
    "import os\n",
    "import re\n",
    "import copy\n",
    "from collections import Counter\n",
    "# Specify git executable file for GitPython in Jupyter Notebook (In IDE, it can still work without this line.)\n",
    "os.environ[\"GIT_PYTHON_REFRESH\"] = \"quiet\"\n",
    "from collections import Counter\n",
    "import git\n",
    "from git import RemoteProgress\n",
    "import pprint as pprint\n",
    "from git import Repo\n",
    "import matplotlib.pyplot as plt\n",
    "import seaborn as sns\n",
    "import copy\n",
    "from collections import Counter\n",
    "%matplotlib inline"
   ]
  },
  {
   "cell_type": "code",
   "execution_count": null,
   "metadata": {},
   "outputs": [],
   "source": []
  },
  {
   "cell_type": "code",
   "execution_count": 7,
   "metadata": {},
   "outputs": [],
   "source": [
    "class Progress(RemoteProgress):\n",
    "    def update(self, op_code, cur_count, max_count=None, message=''):\n",
    "        print(self._cur_line)"
   ]
  },
  {
   "cell_type": "code",
   "execution_count": 15,
   "metadata": {},
   "outputs": [],
   "source": [
    "repo = Repo(\"hive/\")\n",
    "fixing_commit =\"00c0ee7bc4b8492476b377a6edafcc33411f14b\""
   ]
  },
  {
   "cell_type": "code",
   "execution_count": null,
   "metadata": {},
   "outputs": [],
   "source": []
  },
  {
   "cell_type": "code",
   "execution_count": 11,
   "metadata": {},
   "outputs": [
    {
     "name": "stdout",
     "output_type": "stream",
     "text": [
      "commit 00c0ee7bc4b8492476b377a6edafcc33411f14b6\n",
      "Author: Daniel Dai <daijyc@gmail.com>\n",
      "Date:   Thu Oct 25 00:11:20 2018 -0700\n",
      "\n",
      "    HIVE-20420: Provide a fallback authorizer when no other authorizer is in use (Daniel Dai, reviewed by Laszlo Pinter, Thejas Nair)\n",
      "    \n",
      "    Signed-off-by: Thejas M Nair <thejas@hortonworks.com>\n"
     ]
    }
   ],
   "source": [
    "show_info = repo.git.show(\"-s\", fixing_commit).splitlines()\n",
    "for line in show_info:\n",
    "    print(line)"
   ]
  },
  {
   "cell_type": "code",
   "execution_count": null,
   "metadata": {},
   "outputs": [],
   "source": []
  },
  {
   "cell_type": "code",
   "execution_count": 12,
   "metadata": {},
   "outputs": [
    {
     "name": "stdout",
     "output_type": "stream",
     "text": [
      "the total number of affected files are\n",
      "    Signed-off-by: Thejas M Nair <thejas@hortonworks.com>\n",
      "\n",
      " .../plugin/fallback/FallbackHiveAuthorizer.java           |  8 +++++++-\n",
      " .../authorization/plugin/sqlstd/Operation2Privilege.java  | 15 +++++++++++++++\n",
      " 2 files changed, 22 insertions(+), 1 deletion(-)\n"
     ]
    }
   ],
   "source": [
    "total_affectedfiles = repo.git.show(\"--stat\",fixing_commit).splitlines()\n",
    "print(\"the total number of affected files are\")\n",
    "total_affectedfiles=total_affectedfiles[6:]\n",
    "for line in total_affectedfiles:\n",
    "    print(line)"
   ]
  },
  {
   "cell_type": "code",
   "execution_count": null,
   "metadata": {},
   "outputs": [],
   "source": []
  },
  {
   "cell_type": "code",
   "execution_count": 14,
   "metadata": {},
   "outputs": [
    {
     "name": "stdout",
     "output_type": "stream",
     "text": [
      "***********Number of DELETED COMMITS************\n",
      "Vulnerability Associated:  CVE-2018-11777\n",
      "File Associated:  ql/src/java/org/apache/hadoop/hive/ql/security/authorization/plugin/fallback/FallbackHiveAuthorizer.java\n",
      "Count of Commits: 1 , Commit: 12d2b2dbf56d9a41d954487a70e99e9cdbcd8884\n",
      "\n",
      "\n",
      "***********Number of added Commits ************\n",
      "Vulnerability Associated:  CVE-2018-11777\n",
      "File Associated:  ql/src/java/org/apache/hadoop/hive/ql/security/authorization/plugin/fallback/FallbackHiveAuthorizer.java\n",
      "Count of Commits: 6 , Commit: 12d2b2dbf56d9a41d954487a70e99e9cdbcd8884\n",
      "Count of Commits: 1 , Commit: 00c0ee7bc4b8492476b377a6edafcc33411f14b6\n",
      "File Associated:  ql/src/java/org/apache/hadoop/hive/ql/security/authorization/plugin/sqlstd/Operation2Privilege.java\n",
      "Count of Commits: 12 , Commit: 0add17dc8113719930e7c25e91ab6043691f720f\n",
      "Count of Commits: 2 , Commit: 216613651f1c5cbf9a66e967a40fc0d5338f8441\n",
      "Count of Commits: 1 , Commit: 00c0ee7bc4b8492476b377a6edafcc33411f14b6\n",
      "\n",
      "\n",
      "***********Vulnerability Contributing Commits************\n",
      "CVE-2018-11777\n",
      "    * ql/src/java/org/apache/hadoop/hive/ql/security/authorization/plugin/fallback/FallbackHiveAuthorizer.java\n",
      "Vulnerability Contributing Commit Count:  7  Commit:  12d2b2dbf56d9a41d954487a70e99e9cdbcd8884\n",
      "    * ql/src/java/org/apache/hadoop/hive/ql/security/authorization/plugin/sqlstd/Operation2Privilege.java\n",
      "Vulnerability Contributing Commit Count:  12  Commit:  0add17dc8113719930e7c25e91ab6043691f720f\n"
     ]
    }
   ],
   "source": [
    "def funtomodify(modification):\n",
    "    line=modification\n",
    "    line=line.split('@@')[1]\n",
    "    line=line.replace('-','')\n",
    "    line=line.replace('+','')\n",
    "    line=line.replace(\" \",\",\")\n",
    "    line=line.split(\",\")\n",
    "    buffDel=[int(line[1]),int(line[1])+int(line[2])-1]\n",
    "    buffAdd=[int(line[3]),int(line[3])+int(line[4])-1]\n",
    "    linesDeleted.append(buffDel)\n",
    "    linesAdded.append(buffAdd)\n",
    "    \n",
    "def wts(line,added_commits,fileComp):\n",
    "    fullCompleteIndex = (int(line[line.rfind(\" \", 0,line.find(\")\")):line.find(\")\")]) - 1)-1 \n",
    "    exited = False\n",
    "    noSkip = True\n",
    "    while fullCompleteIndex >= 0:\n",
    "        content = fileComp[fullCompleteIndex][line.find(\") \")+2:].strip()\n",
    "        if content.endswith(\"}\"):\n",
    "            noSkip = False\n",
    "        if content.endswith(\"{\") and not noSkip:\n",
    "            noSkip = True\n",
    "        elif content.endswith(\"{\") and noSkip:\n",
    "            hashedCode = repo.git.rev_parse(fileComp[fullCompleteIndex][:fileComp[fullCompleteIndex].find(\" \")])\n",
    "            if file in added_commits[\"CVE-2018-11777\"]:\n",
    "                added_commits[\"CVE-2018-11777\"][file].append(hashedCode)\n",
    "            else:\n",
    "                added_commits[\"CVE-2018-11777\"][file] = [hashedCode]\n",
    "            exited = True\n",
    "            break\n",
    "        fullCompleteIndex -= 1\n",
    "    if fullCompleteIndex < 0 and not exited:\n",
    "        hashedCode =repo.git.rev_parse(line[:line.find(\" \")])\n",
    "        if file in added_commits[\"CVE-2018-11777\"]:\n",
    "            added_commits[\"CVE-2018-11777\"][file].append(hashedCode)\n",
    "        else:\n",
    "            added_commits[\"CVE-2018-11777\"][file] = [hashedCode]  \n",
    "            \n",
    "def hashCode(linesModifiedDictDup,foundFlag,line,file):\n",
    "    linesModifiedDictDup[\"CVE-2018-11777\"][file][\"deleted_lines\"].remove(foundFlag)\n",
    "    hashedCode = repo.git.rev_parse(line[:line.find(\" \")])\n",
    "    if file in commitsDeleted[\"CVE-2018-11777\"]:\n",
    "        commitsDeleted[\"CVE-2018-11777\"][file].append(hashedCode)\n",
    "    else:\n",
    "        commitsDeleted[\"CVE-2018-11777\"][file] = [hashedCode]\n",
    "        \n",
    "def printLines(commitsDeletedOrAdded):\n",
    "    delAddCommitsNumb = {}\n",
    "    \n",
    "    for files in commitsDeletedOrAdded:\n",
    "        print(\"Vulnerability Associated: \", files)\n",
    "        delAddCommitsNumb[files] = {}\n",
    "        for file in commitsDeletedOrAdded[files]:\n",
    "\n",
    "            print(\"File Associated: \", file)\n",
    "            fileCommitNumb = Counter(commitsDeletedOrAdded[files][file])\n",
    "            if file in delAddCommitsNumb[files]:\n",
    "                delAddCommitsNumb[files][file].append(fileCommitNumb)\n",
    "            else:\n",
    "                delAddCommitsNumb[files][file] = [fileCommitNumb]\n",
    "            for commit, count in zip(fileCommitNumb.keys(), fileCommitNumb.values()):\n",
    "                print(\"Count of Commits:\", count, \", Commit:\", commit)\n",
    "        print(\"\\n\")\n",
    "repo =Repo(\"hive/\")\n",
    "fixingCommit = \"00c0ee7bc4b8492476b377a6edafcc33411f14b\"\n",
    "previousCommit=fixingCommit+\"^1\"\n",
    "lineChanges={}\n",
    "showData = repo.git.diff(\"--name-only\", fixingCommit, previousCommit).splitlines()\n",
    "files=showData\n",
    "lineChanges = {}\n",
    "lineChanges[\"\"]={}\n",
    "linesModifiedBetween = {}\n",
    "linesModifiedBetween[\"CVE-2018-11777\"] = {}\n",
    "for file in files:\n",
    "    showData = repo.git.show(fixingCommit, \"--\", file).splitlines()\n",
    "    linesAdded = []\n",
    "    linesDeleted = []\n",
    "    for modification in showData:\n",
    "        if \"@@\" in modification:\n",
    "            funtomodify(modification)\n",
    "    linesModifiedBetween[\"CVE-2018-11777\"][file] = {\"added_ranges\": linesAdded, \"deleted_ranges\": linesDeleted}\n",
    "linesModifiedDict = {}\n",
    "linesModifiedDict[\"CVE-2018-11777\"] = {}\n",
    "for file in files:\n",
    "    showData = repo.git.show(fixingCommit, \"--\", file).splitlines()\n",
    "    linesAddedAsCode = []\n",
    "    linesDeletedAsCode = []\n",
    "    for lines in showData:\n",
    "        if lines.startswith('+') and not lines.startswith('+++'):\n",
    "            linesAddedAsCode.append(lines)\n",
    "        elif lines.startswith('-') and not lines.startswith('---'):\n",
    "            linesDeletedAsCode.append(lines)\n",
    "    linesModifiedDict[\"CVE-2018-11777\"][file] = {\"added_lines\": linesAddedAsCode, \"deleted_lines\": linesDeletedAsCode}\n",
    "linesModifiedDictDup = copy.deepcopy(linesModifiedDict)\n",
    "commitsDeleted = {}\n",
    "commitsDeleted[\"CVE-2018-11777\"] = {}\n",
    "for file in linesModifiedBetween[\"CVE-2018-11777\"]:\n",
    "    for deletedLines in linesModifiedBetween[\"CVE-2018-11777\"][file][\"deleted_ranges\"]:\n",
    "        blamedShowData = repo.git.blame(previousCommit, \"-L\", str(deletedLines[0])+\",\"+str(deletedLines[1]), \"--\", file).splitlines()\n",
    "        for line in blamedShowData:\n",
    "            blamedLineShowData = line.partition(\") \")[2].strip()\n",
    "            foundFlag = None\n",
    "            for deletedLineCode in linesModifiedDictDup[\"CVE-2018-11777\"][file][\"deleted_lines\"]:\n",
    "                if blamedLineShowData in deletedLineCode[2:]:\n",
    "                    foundFlag = deletedLineCode\n",
    "                    break\n",
    "            if foundFlag != None:\n",
    "                hashCode(linesModifiedDictDup,foundFlag,line,file)\n",
    "\n",
    "print(\"***********Number of DELETED COMMITS************\")               \n",
    "printLines(commitsDeleted)\n",
    "linesModifiedDictDup = copy.deepcopy(linesModifiedDict)\n",
    "added_commits = {}\n",
    "added_commits[\"CVE-2018-11777\"] = {}\n",
    "for file in linesModifiedBetween[\"CVE-2018-11777\"]:\n",
    "    fileComp = repo.git.blame(fixingCommit, \"--\", file).splitlines()\n",
    "    for linesAdded in linesModifiedBetween[\"CVE-2018-11777\"][file][\"added_ranges\"]:\n",
    "        blamedShowData = repo.git.blame(fixingCommit, \"-L\", str(linesAdded[0])+\",\"+str(linesAdded[1]), \"--\", file).splitlines()\n",
    "        for line in blamedShowData:\n",
    "            blamedLineShowData = line[line.find(\") \")+2:].strip()\n",
    "            foundFlag= None\n",
    "            for linesAdded in linesModifiedDictDup[\"CVE-2018-11777\"][file][\"added_lines\"]:\n",
    "                if blamedLineShowData in linesAdded[2:]:\n",
    "                    foundFlag = linesAdded\n",
    "                    break\n",
    "            if foundFlag != None:\n",
    "                linesModifiedDictDup[\"CVE-2018-11777\"][file][\"added_lines\"].remove(foundFlag)\n",
    "                # Finding smallest enclosing scope\n",
    "                withinthescope(line,added_commits,fileComp)\n",
    "print(\"***********Number of added Commits ************\")\n",
    "printLines(added_commits)\n",
    "VCC = {}\n",
    "VCCCommits=[]\n",
    "print(\"***********Vulnerability Contributing Commits************\")\n",
    "# Counting commits\n",
    "for v in commitsDeleted:\n",
    "    VCC[v] = {}\n",
    "    print(v)\n",
    "    for f in added_commits[v]:\n",
    "        print(\"    *\", f)\n",
    "        if f in commitsDeleted[v] and f in added_commits[v]:\n",
    "            counted_commits = Counter(commitsDeleted[v][f]+added_commits[v][f])\n",
    "        elif f in commitsDeleted[v] and f not in added_commits[v]:\n",
    "            counted_commits = Counter(commitsDeleted[v][f])\n",
    "        elif f not in commitsDeleted[v] and f in added_commits[v]:\n",
    "            counted_commits = Counter(added_commits[v][f])\n",
    "        VCC[v][f] = {\"count\": 0, \"commit\": \"\"}\n",
    "        for commit, count in zip(counted_commits.keys(), counted_commits.values()):\n",
    "            if (count > VCC[v][f][\"count\"]):\n",
    "                if commit != fixingCommit:\n",
    "                    VCC[v][f] = {\"count\": count, \"commit\": commit}\n",
    "            elif (count == VCC[v][f][\"count\"]):\n",
    "                if commit != fixingCommit:\n",
    "                    VCC[v][f][\"count\"].append(count)\n",
    "        VCCCommits.append(VCC[v][f][\"commit\"])  \n",
    "        print(\"Vulnerability Contributing Commit Count: \", VCC[v][f][\"count\"], \" Commit: \", VCC[v][f][\"commit\"])"
   ]
  },
  {
   "attachments": {},
   "cell_type": "markdown",
   "metadata": {},
   "source": [
    "#•\tIs the developer of the current fixing commit and its corresponding VCC \n",
    "the  same?"
   ]
  },
  {
   "cell_type": "code",
   "execution_count": 17,
   "metadata": {},
   "outputs": [
    {
     "name": "stdout",
     "output_type": "stream",
     "text": [
      "Parent commit exists, as such it isn't an initial commit!\n"
     ]
    }
   ],
   "source": [
    "for VCC in num_VCCCommits:\n",
    "    if VCC[0]=='^':\n",
    "        VCC=VCC[1:]\n",
    "    try:\n",
    "        VCCParent= repo.git.show(VCC+\"^\").splitlines()\n",
    "    except: \n",
    "        pass\n",
    "print(\"Parent commit exists, as such it isn't an initial commit!\")"
   ]
  },
  {
   "attachments": {},
   "cell_type": "markdown",
   "metadata": {},
   "source": [
    "#•\t•\tIs the developer of the current fixing commit and its corresponding VCC \n",
    "the  same?"
   ]
  },
  {
   "cell_type": "code",
   "execution_count": 19,
   "metadata": {},
   "outputs": [
    {
     "name": "stdout",
     "output_type": "stream",
     "text": [
      "daijyc@gmail.com\n",
      "Yes! fixing commit author: daijyc@gmail.com is same in commit: 12d2b2dbf56d9a41d954487a70e99e9cdbcd8884\n"
     ]
    }
   ],
   "source": [
    "commit=repo.commit(fixingCommit)\n",
    "fixing_Commit_Author=commit.author.email\n",
    "print(fixing_Commit_Author)\n",
    "for commits in num_VCCCommits:\n",
    "    num_VCCcommit=repo.commit(commits)\n",
    "    num_VCCCommitAuthor=num_VCCcommit.author.email\n",
    "    if(fixinCommitAuthor==VCCCommitAuthor):\n",
    "        print(\"Yes! fixing commit author: {} is same in commit: {}\".format(fixinCommitAuthor,VCCcommit))"
   ]
  },
  {
   "cell_type": "markdown",
   "metadata": {},
   "source": [
    "#•\tHow  many  days  were  between  the  current  fixing  commit  and  its \n",
    "corresponding  VCC? \n"
   ]
  },
  {
   "cell_type": "code",
   "execution_count": 10,
   "metadata": {},
   "outputs": [
    {
     "name": "stdout",
     "output_type": "stream",
     "text": [
      "Fixing commit: 00c0ee7bc4b8492476b377a6edafcc33411f14b6 and VCC commit: 12d2b2dbf56d9a41d954487a70e99e9cdbcd8884 was fixed in: 2 days, 0:00:00 \n",
      "Fixing commit: 00c0ee7bc4b8492476b377a6edafcc33411f14b6 and VCC commit: 0add17dc8113719930e7c25e91ab6043691f720f was fixed in: 1616 days, 0:00:00 \n"
     ]
    }
   ],
   "source": [
    "from datetime import datetime\n",
    "commit=repo.commit(fixingCommit)\n",
    "fixing_Commit_Author=commit.author.email\n",
    "dateofFixing=repo.git.show(\"-s\",\"--format=%ci\",commit).split(\" \")\n",
    "dateofFixing=dateFixing[0]\n",
    "dateofFixing=datetime.strptime(\"{}\".format(dateFixing), '%Y-%m-%d').date()\n",
    "time_different = 0\n",
    "sum = 0\n",
    "count = 0\n",
    "for commits in num_VCCCommits:\n",
    "    date=repo.git.show(\"-s\",\"--format=%ci\",commits).split(\" \")\n",
    "    date=date[0]\n",
    "    date= datetime.strptime(\"{}\".format(date), '%Y-%m-%d').date()\n",
    "    days=dateFixing-date\n",
    "    print(\"Fixing commit: {} and VCC commit: {} was fixed in: {} \".format(commit,commits,days))\n",
    "    "
   ]
  },
  {
   "cell_type": "markdown",
   "metadata": {},
   "source": [
    "    \n",
    "#Vulnerability 3:\n",
    "\n",
    "Github link: https://github.com/apache/poi\n",
    "Cve Id: CVE-2012-0213\n",
    "Cwe id: 399\n",
    "Vulnerability type: Resource Management Errors\n",
    "Fixing Commit: c702bc5ce58f9f11f408c7568cc96382c76641ef\n"
   ]
  },
  {
   "cell_type": "code",
   "execution_count": 11,
   "metadata": {},
   "outputs": [],
   "source": [
    "import numpy as np\n",
    "import pandas as pd\n",
    "import os\n",
    "os.environ[\"GIT_PYTHON_REFRESH\"] = \"quiet\"\n",
    "import git\n",
    "from git import RemoteProgress\n",
    "\n",
    "from git import Repo\n",
    "import re\n",
    "from datetime import datetime\n",
    "\n",
    "\n",
    "import matplotlib.pyplot as plt\n",
    "import seaborn as sns\n",
    "%matplotlib inline"
   ]
  },
  {
   "cell_type": "code",
   "execution_count": null,
   "metadata": {},
   "outputs": [],
   "source": []
  },
  {
   "cell_type": "code",
   "execution_count": 12,
   "metadata": {},
   "outputs": [],
   "source": [
    "class Progress(RemoteProgress):\n",
    "    def update(self, op_code, cur_count, max_count=None, message=''):\n",
    "        print(self._cur_line)"
   ]
  },
  {
   "cell_type": "code",
   "execution_count": null,
   "metadata": {},
   "outputs": [],
   "source": []
  },
  {
   "cell_type": "code",
   "execution_count": 13,
   "metadata": {},
   "outputs": [],
   "source": [
    "repo = Repo(\"poi/\")\n",
    "fixing_commit =\"209c10a3f50d4290dfe2aa1c14637c6091a74788\""
   ]
  },
  {
   "cell_type": "code",
   "execution_count": null,
   "metadata": {},
   "outputs": [],
   "source": []
  },
  {
   "cell_type": "code",
   "execution_count": 14,
   "metadata": {},
   "outputs": [
    {
     "name": "stdout",
     "output_type": "stream",
     "text": [
      "commit 209c10a3f50d4290dfe2aa1c14637c6091a74788\n",
      "Author: Andreas Beeker <kiwiwings@apache.org>\n",
      "Date:   Tue Apr 11 22:13:33 2017 +0000\n",
      "\n",
      "    release prepare for 3.16 - updating build.xml and status.xml\n",
      "    \n",
      "    git-svn-id: https://svn.apache.org/repos/asf/poi/trunk@1791045 13f79535-47bb-0310-9956-ffa450edef68\n"
     ]
    }
   ],
   "source": [
    "show_info = repo.git.show(\"-s\", fixing_commit).splitlines()\n",
    "for line in show_info:\n",
    "    print(line)"
   ]
  },
  {
   "cell_type": "code",
   "execution_count": null,
   "metadata": {},
   "outputs": [],
   "source": []
  },
  {
   "cell_type": "code",
   "execution_count": 15,
   "metadata": {},
   "outputs": [
    {
     "name": "stdout",
     "output_type": "stream",
     "text": [
      "the total number of affected files are\n",
      "    git-svn-id: https://svn.apache.org/repos/asf/poi/trunk@1791045 13f79535-47bb-0310-9956-ffa450edef68\n",
      "\n",
      " build.xml | 2 +-\n",
      " 1 file changed, 1 insertion(+), 1 deletion(-)\n"
     ]
    }
   ],
   "source": [
    "total_affectedfiles = repo.git.show(\"--stat\",fixing_commit).splitlines()\n",
    "print(\"the total number of affected files are\")\n",
    "total_affectedfiles=total_affectedfiles[6:]\n",
    "for line in total_affectedfiles:\n",
    "    print(line)"
   ]
  },
  {
   "cell_type": "code",
   "execution_count": null,
   "metadata": {},
   "outputs": [],
   "source": []
  },
  {
   "cell_type": "code",
   "execution_count": 16,
   "metadata": {},
   "outputs": [
    {
     "name": "stdout",
     "output_type": "stream",
     "text": [
      "***********DELETED COMMITS************\n",
      "Vulnerability Associated:  CVE-2012-0213 \n",
      "File Associated:  build.xml\n",
      "Count of Commits: 1 , Commit: 2d641e1f74a3118502974885e5f6577c2758d8a3\n",
      "\n",
      "\n",
      "***********ADDED COMMITS************\n",
      "Vulnerability Associated:  CVE-2012-0213 \n",
      "File Associated:  build.xml\n",
      "Count of Commits: 1 , Commit: 2d641e1f74a3118502974885e5f6577c2758d8a3\n",
      "\n",
      "\n",
      "***********VCC COMMITS************\n",
      "CVE-2012-0213 \n",
      "    * build.xml\n",
      "Vulnerability Contributing Commit Count:  2  Commit:  2d641e1f74a3118502974885e5f6577c2758d8a3\n"
     ]
    }
   ],
   "source": [
    "def functontomodify(modification):\n",
    "    line=modification\n",
    "    line=line.split('@@')[1]\n",
    "    line=line.replace('-','')\n",
    "    line=line.replace('+','')\n",
    "    line=line.replace(\" \",\",\")\n",
    "    line=line.split(\",\")\n",
    "    buffDel=[int(line[1]),int(line[1])+int(line[2])-1]\n",
    "    buffAdd=[int(line[3]),int(line[3])+int(line[4])-1]\n",
    "    linesDeleted.append(buffDel)\n",
    "    linesAdded.append(buffAdd)\n",
    "def wts(line,added_commits,fileComp):\n",
    "    fullCompleteIndex = (int(line[line.rfind(\" \", 0,line.find(\")\")):line.find(\")\")]) - 1)-1 \n",
    "    exited = False\n",
    "    noSkip = True\n",
    "    while fullCompleteIndex >= 0:\n",
    "        content = fileComp[fullCompleteIndex][line.find(\") \")+2:].strip()\n",
    "        if content.endswith(\"}\"):\n",
    "            noSkip = False\n",
    "        if content.endswith(\"{\") and not noSkip:\n",
    "            noSkip = True\n",
    "        elif content.endswith(\"{\") and noSkip:\n",
    "            hashedCode = repo.git.rev_parse(fileComp[fullCompleteIndex][:fileComp[fullCompleteIndex].find(\" \")])\n",
    "            if file in added_commits[\"CVE-2012-0213 \"]:\n",
    "                added_commits[\"CVE-2012-0213 \"][file].append(hashedCode)\n",
    "            else:\n",
    "                added_commits[\"CVE-2012-0213 \"][file] = [hashedCode]\n",
    "            exited = True\n",
    "            break\n",
    "        fullCompleteIndex -= 1\n",
    "    if fullCompleteIndex < 0 and not exited:\n",
    "        hashedCode =repo.git.rev_parse(line[:line.find(\" \")])\n",
    "        if file in added_commits[\"CVE-2012-0213 \"]:\n",
    "            added_commits[\"CVE-2012-0213 \"][file].append(hashedCode)\n",
    "        else:\n",
    "            added_commits[\"CVE-2012-0213 \"][file] = [hashedCode]            \n",
    "def hashCode(linesModifiedDictDup,foundFlag,line,file):\n",
    "    linesModifiedDictDup[\"CVE-2012-0213 \"][file][\"deleted_lines\"].remove(foundFlag)\n",
    "    hashedCode = repo.git.rev_parse(line[:line.find(\" \")])\n",
    "    if file in commitsDeleted[\"CVE-2012-0213 \"]:\n",
    "        commitsDeleted[\"CVE-2012-0213 \"][file].append(hashedCode)\n",
    "    else:\n",
    "        commitsDeleted[\"CVE-2012-0213 \"][file] = [hashedCode]\n",
    "def printLines(commitsDeletedOrAdded):\n",
    "    delAddCommitsNumb = {}\n",
    "    \n",
    "    for files in commitsDeletedOrAdded:\n",
    "        print(\"Vulnerability Associated: \", files)\n",
    "        delAddCommitsNumb[files] = {}\n",
    "        for file in commitsDeletedOrAdded[files]:\n",
    "\n",
    "            print(\"File Associated: \", file)\n",
    "            fileCommitNumb = Counter(commitsDeletedOrAdded[files][file])\n",
    "            if file in delAddCommitsNumb[files]:\n",
    "                delAddCommitsNumb[files][file].append(fileCommitNumb)\n",
    "            else:\n",
    "                delAddCommitsNumb[files][file] = [fileCommitNumb]\n",
    "            for commit, count in zip(fileCommitNumb.keys(), fileCommitNumb.values()):\n",
    "                print(\"Count of Commits:\", count, \", Commit:\", commit)\n",
    "        print(\"\\n\")\n",
    "repo =Repo(\"poi/\")\n",
    "fixingCommit = \"209c10a3f50d4290dfe2aa1c14637c6091a74788\"\n",
    "previousCommit=fixingCommit+\"^1\"\n",
    "lineChanges={}\n",
    "showData = repo.git.diff(\"--name-only\", fixingCommit, previousCommit).splitlines()\n",
    "files=showData\n",
    "lineChanges = {}\n",
    "lineChanges[\"\"]={}\n",
    "linesModifiedBetween = {}\n",
    "linesModifiedBetween[\"CVE-2012-0213 \"] = {}\n",
    "for file in files:\n",
    "    showData = repo.git.show(fixingCommit, \"--\", file).splitlines()\n",
    "    linesAdded = []\n",
    "    linesDeleted = []\n",
    "    for modification in showData:\n",
    "        if \"@@\" in modification:\n",
    "            sanitize(modification)\n",
    "    linesModifiedBetween[\"CVE-2012-0213 \"][file] = {\"added_ranges\": linesAdded, \"deleted_ranges\": linesDeleted}\n",
    "linesModifiedDict = {}\n",
    "linesModifiedDict[\"CVE-2012-0213 \"] = {}\n",
    "for file in files:\n",
    "    showData = repo.git.show(fixingCommit, \"--\", file).splitlines()\n",
    "    linesAddedAsCode = []\n",
    "    linesDeletedAsCode = []\n",
    "    for lines in showData:\n",
    "        if lines.startswith('+') and not lines.startswith('+++'):\n",
    "            linesAddedAsCode.append(lines)\n",
    "        elif lines.startswith('-') and not lines.startswith('---'):\n",
    "            linesDeletedAsCode.append(lines)\n",
    "    linesModifiedDict[\"CVE-2012-0213 \"][file] = {\"added_lines\": linesAddedAsCode, \"deleted_lines\": linesDeletedAsCode}\n",
    "linesModifiedDictDup = copy.deepcopy(linesModifiedDict)\n",
    "commitsDeleted = {}\n",
    "commitsDeleted[\"CVE-2012-0213 \"] = {}\n",
    "for file in linesModifiedBetween[\"CVE-2012-0213 \"]:\n",
    "    for deletedLines in linesModifiedBetween[\"CVE-2012-0213 \"][file][\"deleted_ranges\"]:\n",
    "        blamedShowData = repo.git.blame(previousCommit, \"-L\", str(deletedLines[0])+\",\"+str(deletedLines[1]), \"--\", file).splitlines()\n",
    "        for line in blamedShowData:\n",
    "            blamedLineShowData = line.partition(\") \")[2].strip()\n",
    "            foundFlag = None\n",
    "            for deletedLineCode in linesModifiedDictDup[\"CVE-2012-0213 \"][file][\"deleted_lines\"]:\n",
    "                if blamedLineShowData in deletedLineCode[2:]:\n",
    "                    foundFlag = deletedLineCode\n",
    "                    break\n",
    "            if foundFlag != None:\n",
    "                hashCode(linesModifiedDictDup,foundFlag,line,file)\n",
    "\n",
    "print(\"***********DELETED COMMITS************\")               \n",
    "printLines(commitsDeleted)\n",
    "linesModifiedDictDup = copy.deepcopy(linesModifiedDict)\n",
    "added_commits = {}\n",
    "added_commits[\"CVE-2012-0213 \"] = {}\n",
    "for file in linesModifiedBetween[\"CVE-2012-0213 \"]:\n",
    "    fileComp = repo.git.blame(fixingCommit, \"--\", file).splitlines()\n",
    "    for linesAdded in linesModifiedBetween[\"CVE-2012-0213 \"][file][\"added_ranges\"]:\n",
    "        blamedShowData = repo.git.blame(fixingCommit, \"-L\", str(linesAdded[0])+\",\"+str(linesAdded[1]), \"--\", file).splitlines()\n",
    "        for line in blamedShowData:\n",
    "            blamedLineShowData = line[line.find(\") \")+2:].strip()\n",
    "            foundFlag= None\n",
    "            for linesAdded in linesModifiedDictDup[\"CVE-2012-0213 \"][file][\"added_lines\"]:\n",
    "                if blamedLineShowData in linesAdded[2:]:\n",
    "                    foundFlag = linesAdded\n",
    "                    break\n",
    "            if foundFlag != None:\n",
    "                linesModifiedDictDup[\"CVE-2012-0213 \"][file][\"added_lines\"].remove(foundFlag)\n",
    "                # Finding smallest enclosing scope\n",
    "                enclosingScope(line,added_commits,fileComp)\n",
    "print(\"***********ADDED COMMITS************\")\n",
    "printLines(added_commits)\n",
    "VCC = {}\n",
    "VCCCommits=[]\n",
    "print(\"***********VCC COMMITS************\")\n",
    "# Counting commits\n",
    "for v in commitsDeleted:\n",
    "    VCC[v] = {}\n",
    "    print(v)\n",
    "    for f in added_commits[v]:\n",
    "        print(\"    *\", f)\n",
    "        if f in commitsDeleted[v] and f in added_commits[v]:\n",
    "            counted_commits = Counter(commitsDeleted[v][f]+added_commits[v][f])\n",
    "        elif f in commitsDeleted[v] and f not in added_commits[v]:\n",
    "            counted_commits = Counter(commitsDeleted[v][f])\n",
    "        elif f not in commitsDeleted[v] and f in added_commits[v]:\n",
    "            counted_commits = Counter(added_commits[v][f])\n",
    "        VCC[v][f] = {\"count\": 0, \"commit\": \"\"}\n",
    "        for commit, count in zip(counted_commits.keys(), counted_commits.values()):\n",
    "            if (count > VCC[v][f][\"count\"]):\n",
    "                if commit != fixingCommit:\n",
    "                    VCC[v][f] = {\"count\": count, \"commit\": commit}\n",
    "            elif (count == VCC[v][f][\"count\"]):\n",
    "                if commit != fixingCommit:\n",
    "                    VCC[v][f][\"count\"].append(count)\n",
    "        VCCCommits.append(VCC[v][f][\"commit\"])  \n",
    "        print(\"Vulnerability Contributing Commit Count: \", VCC[v][f][\"count\"], \" Commit: \", VCC[v][f][\"commit\"])"
   ]
  },
  {
   "cell_type": "markdown",
   "metadata": {},
   "source": [
    "#• Is the developer of the current fixing commit and its corresponding VCC the same?"
   ]
  },
  {
   "cell_type": "code",
   "execution_count": 17,
   "metadata": {},
   "outputs": [
    {
     "name": "stdout",
     "output_type": "stream",
     "text": [
      "Parent commit exists, as such it isn't an initial commit!\n"
     ]
    }
   ],
   "source": [
    "for VCC in num_VCCCommits:\n",
    "    if VCC[0]=='^':\n",
    "        VCC=VCC[1:]\n",
    "    try:\n",
    "        VCCParent= repo.git.show(VCC+\"^\").splitlines()\n",
    "    except: \n",
    "        pass\n",
    "print(\"Parent commit exists, as such it isn't an initial commit!\")"
   ]
  },
  {
   "cell_type": "markdown",
   "metadata": {},
   "source": [
    "# Is the developer of the current fixing commit and its corresponding VCC \n",
    "the  same?"
   ]
  },
  {
   "cell_type": "code",
   "execution_count": 18,
   "metadata": {},
   "outputs": [
    {
     "name": "stdout",
     "output_type": "stream",
     "text": [
      "kiwiwings@apache.org\n"
     ]
    }
   ],
   "source": [
    "commit=repo.commit(fixingCommit)\n",
    "fixing_Commit_Author=commit.author.email\n",
    "print(fixing_Commit_Author)\n",
    "for commits in num_VCCCommits:\n",
    "    num_VCCcommit=repo.commit(commits)\n",
    "    num_VCCCommitAuthor=VCCcommit.author.email\n",
    "    if(fixinCommitAuthor==VCCCommitAuthor):\n",
    "        print(\"Yes! fixing commit author: {} is same in commit: {}\".format(fixinCommitAuthor,VCCcommit))"
   ]
  },
  {
   "cell_type": "markdown",
   "metadata": {},
   "source": [
    "#•\tHow  many  days  were  between  the  current  fixing  commit  and  its \n",
    "corresponding  VCC? "
   ]
  },
  {
   "cell_type": "code",
   "execution_count": 19,
   "metadata": {},
   "outputs": [
    {
     "name": "stdout",
     "output_type": "stream",
     "text": [
      "Fixing commit: 209c10a3f50d4290dfe2aa1c14637c6091a74788 and VCC commit: 2d641e1f74a3118502974885e5f6577c2758d8a3 was fixed in: 5101 days, 0:00:00 \n"
     ]
    }
   ],
   "source": [
    "from datetime import datetime\n",
    "commit=repo.commit(fixingCommit)\n",
    "fixinCommitAuthor=commit.author.email\n",
    "dateFixing=repo.git.show(\"-s\",\"--format=%ci\",commit).split(\" \")\n",
    "dateFixing=dateFixing[0]\n",
    "dateFixing=datetime.strptime(\"{}\".format(dateFixing), '%Y-%m-%d').date()\n",
    "time_different = 0\n",
    "sum = 0\n",
    "count = 0\n",
    "for commits in VCCCommits:\n",
    "    date=repo.git.show(\"-s\",\"--format=%ci\",commits).split(\" \")\n",
    "    date=date[0]\n",
    "    date= datetime.strptime(\"{}\".format(date), '%Y-%m-%d').date()\n",
    "    days=dateFixing-date\n",
    "    print(\"Fixing commit: {} and VCC commit: {} was fixed in: {} \".format(commit,commits,days))\n",
    "    "
   ]
  },
  {
   "cell_type": "code",
   "execution_count": null,
   "metadata": {},
   "outputs": [],
   "source": []
  }
 ],
 "metadata": {
  "kernelspec": {
   "display_name": "Python 3",
   "language": "python",
   "name": "python3"
  },
  "language_info": {
   "codemirror_mode": {
    "name": "ipython",
    "version": 3
   },
   "file_extension": ".py",
   "mimetype": "text/x-python",
   "name": "python",
   "nbconvert_exporter": "python",
   "pygments_lexer": "ipython3",
   "version": "3.7.4"
  }
 },
 "nbformat": 4,
 "nbformat_minor": 2
}
